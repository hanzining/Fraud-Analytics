{
 "cells": [
  {
   "cell_type": "markdown",
   "id": "nearby-daily",
   "metadata": {},
   "source": [
    "# Assignment2"
   ]
  },
  {
   "cell_type": "markdown",
   "id": "united-spotlight",
   "metadata": {},
   "source": [
    "## Read the raw data"
   ]
  },
  {
   "cell_type": "code",
   "execution_count": 1,
   "id": "express-catering",
   "metadata": {
    "ExecuteTime": {
     "end_time": "2021-02-18T14:11:50.502666Z",
     "start_time": "2021-02-18T14:11:49.810640Z"
    }
   },
   "outputs": [],
   "source": [
    "import pandas as pd\n",
    "import numpy as np"
   ]
  },
  {
   "cell_type": "code",
   "execution_count": 2,
   "id": "graduate-valuable",
   "metadata": {
    "ExecuteTime": {
     "end_time": "2021-02-18T14:11:59.353790Z",
     "start_time": "2021-02-18T14:11:55.272449Z"
    }
   },
   "outputs": [],
   "source": [
    "data=pd.read_csv(\"NY property data.csv\")"
   ]
  },
  {
   "cell_type": "code",
   "execution_count": 3,
   "id": "experienced-concern",
   "metadata": {
    "ExecuteTime": {
     "end_time": "2021-02-18T14:12:00.450472Z",
     "start_time": "2021-02-18T14:12:00.420529Z"
    },
    "scrolled": true
   },
   "outputs": [
    {
     "data": {
      "text/html": [
       "<div>\n",
       "<style scoped>\n",
       "    .dataframe tbody tr th:only-of-type {\n",
       "        vertical-align: middle;\n",
       "    }\n",
       "\n",
       "    .dataframe tbody tr th {\n",
       "        vertical-align: top;\n",
       "    }\n",
       "\n",
       "    .dataframe thead th {\n",
       "        text-align: right;\n",
       "    }\n",
       "</style>\n",
       "<table border=\"1\" class=\"dataframe\">\n",
       "  <thead>\n",
       "    <tr style=\"text-align: right;\">\n",
       "      <th></th>\n",
       "      <th>RECORD</th>\n",
       "      <th>BBLE</th>\n",
       "      <th>B</th>\n",
       "      <th>BLOCK</th>\n",
       "      <th>LOT</th>\n",
       "      <th>EASEMENT</th>\n",
       "      <th>OWNER</th>\n",
       "      <th>BLDGCL</th>\n",
       "      <th>TAXCLASS</th>\n",
       "      <th>LTFRONT</th>\n",
       "      <th>...</th>\n",
       "      <th>BLDFRONT</th>\n",
       "      <th>BLDDEPTH</th>\n",
       "      <th>AVLAND2</th>\n",
       "      <th>AVTOT2</th>\n",
       "      <th>EXLAND2</th>\n",
       "      <th>EXTOT2</th>\n",
       "      <th>EXCD2</th>\n",
       "      <th>PERIOD</th>\n",
       "      <th>YEAR</th>\n",
       "      <th>VALTYPE</th>\n",
       "    </tr>\n",
       "  </thead>\n",
       "  <tbody>\n",
       "    <tr>\n",
       "      <th>0</th>\n",
       "      <td>1</td>\n",
       "      <td>1000010101</td>\n",
       "      <td>1</td>\n",
       "      <td>1</td>\n",
       "      <td>101</td>\n",
       "      <td>NaN</td>\n",
       "      <td>U S GOVT LAND &amp; BLDGS</td>\n",
       "      <td>P7</td>\n",
       "      <td>4</td>\n",
       "      <td>500</td>\n",
       "      <td>...</td>\n",
       "      <td>0</td>\n",
       "      <td>0</td>\n",
       "      <td>3775500.0</td>\n",
       "      <td>8613000.0</td>\n",
       "      <td>3775500.0</td>\n",
       "      <td>8613000.0</td>\n",
       "      <td>NaN</td>\n",
       "      <td>FINAL</td>\n",
       "      <td>2010/11</td>\n",
       "      <td>AC-TR</td>\n",
       "    </tr>\n",
       "    <tr>\n",
       "      <th>1</th>\n",
       "      <td>2</td>\n",
       "      <td>1000010201</td>\n",
       "      <td>1</td>\n",
       "      <td>1</td>\n",
       "      <td>201</td>\n",
       "      <td>NaN</td>\n",
       "      <td>U S GOVT LAND &amp; BLDGS</td>\n",
       "      <td>Z9</td>\n",
       "      <td>4</td>\n",
       "      <td>27</td>\n",
       "      <td>...</td>\n",
       "      <td>0</td>\n",
       "      <td>0</td>\n",
       "      <td>11111400.0</td>\n",
       "      <td>80690400.0</td>\n",
       "      <td>11111400.0</td>\n",
       "      <td>80690400.0</td>\n",
       "      <td>NaN</td>\n",
       "      <td>FINAL</td>\n",
       "      <td>2010/11</td>\n",
       "      <td>AC-TR</td>\n",
       "    </tr>\n",
       "    <tr>\n",
       "      <th>2</th>\n",
       "      <td>3</td>\n",
       "      <td>1000020001</td>\n",
       "      <td>1</td>\n",
       "      <td>2</td>\n",
       "      <td>1</td>\n",
       "      <td>NaN</td>\n",
       "      <td>DEPT OF GENERAL SERVI</td>\n",
       "      <td>Y7</td>\n",
       "      <td>4</td>\n",
       "      <td>709</td>\n",
       "      <td>...</td>\n",
       "      <td>709</td>\n",
       "      <td>564</td>\n",
       "      <td>32321790.0</td>\n",
       "      <td>40179510.0</td>\n",
       "      <td>32321790.0</td>\n",
       "      <td>40179510.0</td>\n",
       "      <td>NaN</td>\n",
       "      <td>FINAL</td>\n",
       "      <td>2010/11</td>\n",
       "      <td>AC-TR</td>\n",
       "    </tr>\n",
       "    <tr>\n",
       "      <th>3</th>\n",
       "      <td>4</td>\n",
       "      <td>1000020023</td>\n",
       "      <td>1</td>\n",
       "      <td>2</td>\n",
       "      <td>23</td>\n",
       "      <td>NaN</td>\n",
       "      <td>DEPARTMENT OF BUSINES</td>\n",
       "      <td>T2</td>\n",
       "      <td>4</td>\n",
       "      <td>793</td>\n",
       "      <td>...</td>\n",
       "      <td>85</td>\n",
       "      <td>551</td>\n",
       "      <td>13644000.0</td>\n",
       "      <td>15750000.0</td>\n",
       "      <td>13644000.0</td>\n",
       "      <td>15750000.0</td>\n",
       "      <td>NaN</td>\n",
       "      <td>FINAL</td>\n",
       "      <td>2010/11</td>\n",
       "      <td>AC-TR</td>\n",
       "    </tr>\n",
       "    <tr>\n",
       "      <th>4</th>\n",
       "      <td>5</td>\n",
       "      <td>1000030001</td>\n",
       "      <td>1</td>\n",
       "      <td>3</td>\n",
       "      <td>1</td>\n",
       "      <td>NaN</td>\n",
       "      <td>PARKS AND RECREATION</td>\n",
       "      <td>Q1</td>\n",
       "      <td>4</td>\n",
       "      <td>323</td>\n",
       "      <td>...</td>\n",
       "      <td>89</td>\n",
       "      <td>57</td>\n",
       "      <td>106348680.0</td>\n",
       "      <td>107758350.0</td>\n",
       "      <td>106348680.0</td>\n",
       "      <td>107758350.0</td>\n",
       "      <td>NaN</td>\n",
       "      <td>FINAL</td>\n",
       "      <td>2010/11</td>\n",
       "      <td>AC-TR</td>\n",
       "    </tr>\n",
       "  </tbody>\n",
       "</table>\n",
       "<p>5 rows × 32 columns</p>\n",
       "</div>"
      ],
      "text/plain": [
       "   RECORD        BBLE  B  BLOCK  LOT EASEMENT                  OWNER BLDGCL  \\\n",
       "0       1  1000010101  1      1  101      NaN  U S GOVT LAND & BLDGS     P7   \n",
       "1       2  1000010201  1      1  201      NaN  U S GOVT LAND & BLDGS     Z9   \n",
       "2       3  1000020001  1      2    1      NaN  DEPT OF GENERAL SERVI     Y7   \n",
       "3       4  1000020023  1      2   23      NaN  DEPARTMENT OF BUSINES     T2   \n",
       "4       5  1000030001  1      3    1      NaN   PARKS AND RECREATION     Q1   \n",
       "\n",
       "  TAXCLASS  LTFRONT  ...  BLDFRONT BLDDEPTH      AVLAND2       AVTOT2  \\\n",
       "0        4      500  ...         0        0    3775500.0    8613000.0   \n",
       "1        4       27  ...         0        0   11111400.0   80690400.0   \n",
       "2        4      709  ...       709      564   32321790.0   40179510.0   \n",
       "3        4      793  ...        85      551   13644000.0   15750000.0   \n",
       "4        4      323  ...        89       57  106348680.0  107758350.0   \n",
       "\n",
       "       EXLAND2       EXTOT2  EXCD2  PERIOD     YEAR VALTYPE  \n",
       "0    3775500.0    8613000.0    NaN   FINAL  2010/11   AC-TR  \n",
       "1   11111400.0   80690400.0    NaN   FINAL  2010/11   AC-TR  \n",
       "2   32321790.0   40179510.0    NaN   FINAL  2010/11   AC-TR  \n",
       "3   13644000.0   15750000.0    NaN   FINAL  2010/11   AC-TR  \n",
       "4  106348680.0  107758350.0    NaN   FINAL  2010/11   AC-TR  \n",
       "\n",
       "[5 rows x 32 columns]"
      ]
     },
     "execution_count": 3,
     "metadata": {},
     "output_type": "execute_result"
    }
   ],
   "source": [
    "data.head()"
   ]
  },
  {
   "cell_type": "markdown",
   "id": "popular-father",
   "metadata": {},
   "source": [
    "## Filling In Missing ZIP"
   ]
  },
  {
   "cell_type": "code",
   "execution_count": 4,
   "id": "legal-pillow",
   "metadata": {
    "ExecuteTime": {
     "end_time": "2021-02-18T14:12:03.080827Z",
     "start_time": "2021-02-18T14:12:03.068930Z"
    }
   },
   "outputs": [
    {
     "data": {
      "text/plain": [
       "29890"
      ]
     },
     "execution_count": 4,
     "metadata": {},
     "output_type": "execute_result"
    }
   ],
   "source": [
    "# missing zip \n",
    "missing_zips=np.where(pd.isnull(data['ZIP']))[0]\n",
    "len(missing_zips)"
   ]
  },
  {
   "cell_type": "code",
   "execution_count": 5,
   "id": "applied-emphasis",
   "metadata": {
    "ExecuteTime": {
     "end_time": "2021-02-18T14:13:04.674082Z",
     "start_time": "2021-02-18T14:12:05.579443Z"
    }
   },
   "outputs": [],
   "source": [
    "# if before and after are the same, replace by that zip code\n",
    "for i in range(len(missing_zips)):\n",
    "    if data.loc[missing_zips[i]+1,'ZIP']==data.loc[missing_zips[i]-1,'ZIP']:\n",
    "        data.loc[missing_zips[i],'ZIP']=data.loc[missing_zips[i]-1,'ZIP'] "
   ]
  },
  {
   "cell_type": "code",
   "execution_count": 6,
   "id": "adequate-scroll",
   "metadata": {
    "ExecuteTime": {
     "end_time": "2021-02-18T14:13:06.226109Z",
     "start_time": "2021-02-18T14:13:06.213942Z"
    }
   },
   "outputs": [
    {
     "data": {
      "text/plain": [
       "16437"
      ]
     },
     "execution_count": 6,
     "metadata": {},
     "output_type": "execute_result"
    }
   ],
   "source": [
    "missing_zips=np.where(pd.isnull(data['ZIP']))[0]\n",
    "len(missing_zips)"
   ]
  },
  {
   "cell_type": "code",
   "execution_count": 7,
   "id": "designed-arrow",
   "metadata": {
    "ExecuteTime": {
     "end_time": "2021-02-18T14:14:17.286296Z",
     "start_time": "2021-02-18T14:13:07.162937Z"
    }
   },
   "outputs": [],
   "source": [
    "# for the rest,\n",
    "# replace all the missing zips with the zip from the record above it\n",
    "for i in range(len(missing_zips)):\n",
    "    data.loc[missing_zips[i],'ZIP']=data.loc[missing_zips[i]-1,'ZIP'] "
   ]
  },
  {
   "cell_type": "code",
   "execution_count": 8,
   "id": "metropolitan-frederick",
   "metadata": {
    "ExecuteTime": {
     "end_time": "2021-02-18T14:14:18.602141Z",
     "start_time": "2021-02-18T14:14:18.594692Z"
    }
   },
   "outputs": [
    {
     "data": {
      "text/plain": [
       "0"
      ]
     },
     "execution_count": 8,
     "metadata": {},
     "output_type": "execute_result"
    }
   ],
   "source": [
    "# check whether there are left\n",
    "missing_zips=np.where(pd.isnull(data['ZIP']))[0]\n",
    "len(missing_zips)"
   ]
  },
  {
   "cell_type": "markdown",
   "id": "permanent-czech",
   "metadata": {},
   "source": [
    "## Filling In Missing STORIES"
   ]
  },
  {
   "cell_type": "code",
   "execution_count": 9,
   "id": "north-basics",
   "metadata": {
    "ExecuteTime": {
     "end_time": "2021-02-18T14:14:25.384756Z",
     "start_time": "2021-02-18T14:14:25.076345Z"
    }
   },
   "outputs": [
    {
     "data": {
      "text/plain": [
       "56264"
      ]
     },
     "execution_count": 9,
     "metadata": {},
     "output_type": "execute_result"
    }
   ],
   "source": [
    "temp=data[data['STORIES'].isnull()]\n",
    "len(temp)"
   ]
  },
  {
   "cell_type": "code",
   "execution_count": 10,
   "id": "thousand-programming",
   "metadata": {
    "ExecuteTime": {
     "end_time": "2021-02-18T14:14:26.900562Z",
     "start_time": "2021-02-18T14:14:26.869807Z"
    }
   },
   "outputs": [
    {
     "data": {
      "text/plain": [
       "1B    24736\n",
       "4     22354\n",
       "3      4635\n",
       "2      3435\n",
       "1       897\n",
       "2C      138\n",
       "2B       34\n",
       "2A       30\n",
       "1A        5\n",
       "Name: TAXCLASS, dtype: int64"
      ]
     },
     "execution_count": 10,
     "metadata": {},
     "output_type": "execute_result"
    }
   ],
   "source": [
    "temp['TAXCLASS'].value_counts()"
   ]
  },
  {
   "cell_type": "code",
   "execution_count": 11,
   "id": "loved-lounge",
   "metadata": {
    "ExecuteTime": {
     "end_time": "2021-02-18T14:14:28.930077Z",
     "start_time": "2021-02-18T14:14:28.803097Z"
    }
   },
   "outputs": [
    {
     "name": "stdout",
     "output_type": "stream",
     "text": [
      "TAXCLASS\n",
      "1      2.111641\n",
      "1A     1.656837\n",
      "1B     4.000000\n",
      "1C     3.052748\n",
      "1D     1.068966\n",
      "2     16.095110\n",
      "2A     2.844574\n",
      "2B     4.004494\n",
      "2C     4.745097\n",
      "3      1.333333\n",
      "4      5.446968\n",
      "Name: STORIES, dtype: float64\n"
     ]
    }
   ],
   "source": [
    "# groupby TAXCLASS, since that’s a pretty good description of the nature of the buildings\n",
    "mean_stories=data.groupby('TAXCLASS')['STORIES'].mean()\n",
    "print(mean_stories)"
   ]
  },
  {
   "cell_type": "code",
   "execution_count": 12,
   "id": "comic-steps",
   "metadata": {
    "ExecuteTime": {
     "end_time": "2021-02-18T14:14:31.438856Z",
     "start_time": "2021-02-18T14:14:31.417338Z"
    }
   },
   "outputs": [
    {
     "data": {
      "text/plain": [
       "0"
      ]
     },
     "execution_count": 12,
     "metadata": {},
     "output_type": "execute_result"
    }
   ],
   "source": [
    "len(data[data['STORIES']==0])"
   ]
  },
  {
   "cell_type": "code",
   "execution_count": 13,
   "id": "understood-survey",
   "metadata": {
    "ExecuteTime": {
     "end_time": "2021-02-18T14:14:34.272793Z",
     "start_time": "2021-02-18T14:14:33.243195Z"
    }
   },
   "outputs": [],
   "source": [
    "# fill in with the average by that record’s TAXCLASS\n",
    "data['STORIES']=data['STORIES'].fillna(value=0)\n",
    "for index in mean_stories.index:\n",
    "    data.loc[(data['STORIES']==0)&(data['TAXCLASS']==index),'STORIES']=mean_stories[index]"
   ]
  },
  {
   "cell_type": "markdown",
   "id": "available-vector",
   "metadata": {},
   "source": [
    "## Calculate means for FULLVAL, AVLAND, AVTOT by TAXCLASS, avoiding 0"
   ]
  },
  {
   "cell_type": "code",
   "execution_count": 14,
   "id": "hazardous-canal",
   "metadata": {
    "ExecuteTime": {
     "end_time": "2021-02-18T14:14:36.208144Z",
     "start_time": "2021-02-18T14:14:35.856176Z"
    }
   },
   "outputs": [
    {
     "name": "stdout",
     "output_type": "stream",
     "text": [
      "TAXCLASS\n",
      "1     5.698435e+05\n",
      "1A    3.352842e+05\n",
      "1B    5.613639e+05\n",
      "1C    7.615359e+05\n",
      "1D    2.233614e+07\n",
      "2     7.998018e+05\n",
      "2A    8.640037e+05\n",
      "2B    1.252989e+06\n",
      "2C    7.728799e+05\n",
      "3     1.112765e+05\n",
      "4     3.211928e+06\n",
      "Name: FULLVAL, dtype: float64\n"
     ]
    }
   ],
   "source": [
    "data['FULLVAL'].replace('NaN',0)\n",
    "temp=data[data['FULLVAL']!=0]\n",
    "mean_fullval=temp.groupby('TAXCLASS')['FULLVAL'].mean()\n",
    "print(mean_fullval)"
   ]
  },
  {
   "cell_type": "code",
   "execution_count": 15,
   "id": "composed-corner",
   "metadata": {
    "ExecuteTime": {
     "end_time": "2021-02-18T14:15:17.325638Z",
     "start_time": "2021-02-18T14:15:14.298696Z"
    }
   },
   "outputs": [],
   "source": [
    "data['AVLAND'].replace('NaN',0)\n",
    "temp_avland=data[data['AVLAND']!=0]\n",
    "mean_avland=temp.groupby('TAXCLASS')['AVLAND'].mean()"
   ]
  },
  {
   "cell_type": "code",
   "execution_count": 16,
   "id": "demonstrated-cooler",
   "metadata": {
    "ExecuteTime": {
     "end_time": "2021-02-18T14:15:26.011624Z",
     "start_time": "2021-02-18T14:15:25.265226Z"
    }
   },
   "outputs": [],
   "source": [
    "data['AVTOT'].replace('NaN',0)\n",
    "temp_avtot=data[data['AVTOT']!=0]\n",
    "mean_avtot=temp.groupby('TAXCLASS')['AVTOT'].mean()"
   ]
  },
  {
   "cell_type": "markdown",
   "id": "typical-boutique",
   "metadata": {},
   "source": [
    "## Substituting decent values for FULLVAL, AVLAND, AVTOT  from averages by taxclass"
   ]
  },
  {
   "cell_type": "code",
   "execution_count": 17,
   "id": "controversial-surface",
   "metadata": {
    "ExecuteTime": {
     "end_time": "2021-02-18T14:15:35.617326Z",
     "start_time": "2021-02-18T14:15:32.240915Z"
    }
   },
   "outputs": [
    {
     "name": "stdout",
     "output_type": "stream",
     "text": [
      "CPU times: user 2.59 s, sys: 145 ms, total: 2.73 s\n",
      "Wall time: 3.3 s\n"
     ]
    }
   ],
   "source": [
    "%%time\n",
    "for index in mean_fullval.index:\n",
    "    data.loc[(data['FULLVAL']==0)&(data['TAXCLASS']==index),'FULLVAL']=mean_fullval[index]\n",
    "    data.loc[(data['AVLAND']==0)&(data['TAXCLASS']==index),'AVLAND']=mean_avland[index]\n",
    "    data.loc[(data['AVTOT']==0)&(data['TAXCLASS']==index),'AVTOT']=mean_avtot[index]"
   ]
  },
  {
   "cell_type": "markdown",
   "id": "british-retro",
   "metadata": {},
   "source": [
    "## Filling In Missing Lot and Building Sizes"
   ]
  },
  {
   "cell_type": "code",
   "execution_count": 18,
   "id": "requested-onion",
   "metadata": {
    "ExecuteTime": {
     "end_time": "2021-02-18T14:15:41.237702Z",
     "start_time": "2021-02-18T14:15:41.061592Z"
    }
   },
   "outputs": [],
   "source": [
    "# as these 4 values do not have NAs, we just need to replace 0s. \n",
    "# calculate groupwise average. 1st replace 0 by NAs so they are not counted in calculating mean.\n",
    "data.loc[data['LTFRONT']==0,'LTFRONT']=np.nan\n",
    "data.loc[data['LTDEPTH']==0,'LTDEPTH']=np.nan\n",
    "data.loc[data['BLDFRONT']==0,'BLDFRONT']=np.nan\n",
    "data.loc[data['BLDDEPTH']==0,'BLDDEPTH']=np.nan"
   ]
  },
  {
   "cell_type": "code",
   "execution_count": 19,
   "id": "aware-talent",
   "metadata": {
    "ExecuteTime": {
     "end_time": "2021-02-18T14:15:46.375768Z",
     "start_time": "2021-02-18T14:15:46.310618Z"
    }
   },
   "outputs": [],
   "source": [
    "# add new treatment for 1 (pretend it's missing in assignment 4)\n",
    "data.loc[data['LTFRONT']==1,'LTFRONT']=np.nan\n",
    "data.loc[data['LTDEPTH']==1,'LTDEPTH']=np.nan\n",
    "data.loc[data['BLDFRONT']==1,'BLDFRONT']=np.nan\n",
    "data.loc[data['BLDDEPTH']==1,'BLDDEPTH']=np.nan"
   ]
  },
  {
   "cell_type": "code",
   "execution_count": 20,
   "id": "rubber-payment",
   "metadata": {
    "ExecuteTime": {
     "end_time": "2021-02-18T14:15:58.579936Z",
     "start_time": "2021-02-18T14:15:58.169502Z"
    }
   },
   "outputs": [],
   "source": [
    "# calculate mean now (mean function ignores NAs but not 0s hence we converted 0 to NA)\n",
    "mean_LTFRONT=data.groupby(data['TAXCLASS'])['LTFRONT'].mean()\n",
    "mean_LTDEPTH=data.groupby(data['TAXCLASS'])['LTDEPTH'].mean()\n",
    "mean_BLDFRONT=data.groupby(data['TAXCLASS'])['BLDFRONT'].mean()\n",
    "mean_BLDDEPTH=data.groupby(data['TAXCLASS'])['BLDDEPTH'].mean()"
   ]
  },
  {
   "cell_type": "code",
   "execution_count": 21,
   "id": "impossible-estimate",
   "metadata": {
    "ExecuteTime": {
     "end_time": "2021-02-18T14:16:08.179406Z",
     "start_time": "2021-02-18T14:16:04.050405Z"
    }
   },
   "outputs": [],
   "source": [
    "# impute values\n",
    "for index in mean_LTFRONT.index:\n",
    "    data.loc[(data['LTFRONT'].isnull())&(data['TAXCLASS']==index),'LTFRONT']=mean_LTFRONT[index]    \n",
    "    data.loc[(data['LTDEPTH'].isnull())&(data['TAXCLASS']==index),'LTDEPTH']=mean_LTDEPTH[index]\n",
    "    data.loc[(data['BLDFRONT'].isnull())&(data['TAXCLASS']==index),'BLDFRONT']=mean_BLDFRONT[index]\n",
    "    data.loc[(data['BLDDEPTH'].isnull())&(data['TAXCLASS']==index),'BLDDEPTH']=mean_BLDDEPTH[index]"
   ]
  },
  {
   "cell_type": "markdown",
   "id": "progressive-guidance",
   "metadata": {},
   "source": [
    "## Making New Variables"
   ]
  },
  {
   "cell_type": "code",
   "execution_count": 22,
   "id": "efficient-purple",
   "metadata": {
    "ExecuteTime": {
     "end_time": "2021-02-18T14:16:14.215588Z",
     "start_time": "2021-02-18T14:16:12.851015Z"
    }
   },
   "outputs": [],
   "source": [
    "# convert zip to an integer but float\n",
    "# create a new zip3 variable\n",
    "data['ZIP']=data['ZIP'].astype(str)\n",
    "data['zip3']=data['ZIP'].str[:3]"
   ]
  },
  {
   "cell_type": "code",
   "execution_count": 28,
   "id": "diverse-rolling",
   "metadata": {
    "ExecuteTime": {
     "end_time": "2021-02-01T00:52:49.301459Z",
     "start_time": "2021-02-01T00:52:49.268280Z"
    }
   },
   "outputs": [],
   "source": [
    "# data.rename(columns={'ZIP3':'zip3'}, inplace=True)"
   ]
  },
  {
   "cell_type": "code",
   "execution_count": 23,
   "id": "outstanding-permit",
   "metadata": {
    "ExecuteTime": {
     "end_time": "2021-02-18T14:16:18.680030Z",
     "start_time": "2021-02-18T14:16:18.661446Z"
    }
   },
   "outputs": [],
   "source": [
    "data['ltsize']=data['LTFRONT']*data['LTDEPTH']\n",
    "data['bldsize']=data['BLDFRONT']*data['BLDDEPTH']\n",
    "data['bldvol']=data['bldsize']*data['STORIES']"
   ]
  },
  {
   "cell_type": "code",
   "execution_count": 24,
   "id": "passing-confidentiality",
   "metadata": {
    "ExecuteTime": {
     "end_time": "2021-02-18T14:16:22.833048Z",
     "start_time": "2021-02-18T14:16:22.748379Z"
    }
   },
   "outputs": [],
   "source": [
    "# make typical measures of how normal a property is\n",
    "data['r1']=data['FULLVAL']/data['ltsize']\n",
    "data['r2']=data['FULLVAL']/data['bldsize']\n",
    "data['r3']=data['FULLVAL']/data['bldvol']\n",
    "data['r4']=data['AVLAND']/data['ltsize']\n",
    "data['r5']=data['AVLAND']/data['bldsize']\n",
    "data['r6']=data['AVLAND']/data['bldvol']\n",
    "data['r7']=data['AVTOT']/data['ltsize']\n",
    "data['r8']=data['AVTOT']/data['bldsize']\n",
    "data['r9']=data['AVTOT']/data['bldvol']"
   ]
  },
  {
   "cell_type": "code",
   "execution_count": 25,
   "id": "familiar-edwards",
   "metadata": {
    "ExecuteTime": {
     "end_time": "2021-02-18T14:16:27.912025Z",
     "start_time": "2021-02-18T14:16:27.096026Z"
    }
   },
   "outputs": [
    {
     "name": "stdout",
     "output_type": "stream",
     "text": [
      "<class 'pandas.core.frame.DataFrame'>\n",
      "RangeIndex: 1070994 entries, 0 to 1070993\n",
      "Data columns (total 45 columns):\n",
      " #   Column    Non-Null Count    Dtype  \n",
      "---  ------    --------------    -----  \n",
      " 0   RECORD    1070994 non-null  int64  \n",
      " 1   BBLE      1070994 non-null  object \n",
      " 2   B         1070994 non-null  int64  \n",
      " 3   BLOCK     1070994 non-null  int64  \n",
      " 4   LOT       1070994 non-null  int64  \n",
      " 5   EASEMENT  4636 non-null     object \n",
      " 6   OWNER     1039249 non-null  object \n",
      " 7   BLDGCL    1070994 non-null  object \n",
      " 8   TAXCLASS  1070994 non-null  object \n",
      " 9   LTFRONT   1070994 non-null  float64\n",
      " 10  LTDEPTH   1070994 non-null  float64\n",
      " 11  EXT       354305 non-null   object \n",
      " 12  STORIES   1070994 non-null  float64\n",
      " 13  FULLVAL   1070994 non-null  float64\n",
      " 14  AVLAND    1070994 non-null  float64\n",
      " 15  AVTOT     1070994 non-null  float64\n",
      " 16  EXLAND    1070994 non-null  float64\n",
      " 17  EXTOT     1070994 non-null  float64\n",
      " 18  EXCD1     638488 non-null   float64\n",
      " 19  STADDR    1070318 non-null  object \n",
      " 20  ZIP       1070994 non-null  object \n",
      " 21  EXMPTCL   15579 non-null    object \n",
      " 22  BLDFRONT  1070994 non-null  float64\n",
      " 23  BLDDEPTH  1070994 non-null  float64\n",
      " 24  AVLAND2   282726 non-null   float64\n",
      " 25  AVTOT2    282732 non-null   float64\n",
      " 26  EXLAND2   87449 non-null    float64\n",
      " 27  EXTOT2    130828 non-null   float64\n",
      " 28  EXCD2     92948 non-null    float64\n",
      " 29  PERIOD    1070994 non-null  object \n",
      " 30  YEAR      1070994 non-null  object \n",
      " 31  VALTYPE   1070994 non-null  object \n",
      " 32  zip3      1070994 non-null  object \n",
      " 33  ltsize    1070994 non-null  float64\n",
      " 34  bldsize   1070994 non-null  float64\n",
      " 35  bldvol    1070994 non-null  float64\n",
      " 36  r1        1070994 non-null  float64\n",
      " 37  r2        1070994 non-null  float64\n",
      " 38  r3        1070994 non-null  float64\n",
      " 39  r4        1070994 non-null  float64\n",
      " 40  r5        1070994 non-null  float64\n",
      " 41  r6        1070994 non-null  float64\n",
      " 42  r7        1070994 non-null  float64\n",
      " 43  r8        1070994 non-null  float64\n",
      " 44  r9        1070994 non-null  float64\n",
      "dtypes: float64(28), int64(4), object(13)\n",
      "memory usage: 367.7+ MB\n"
     ]
    }
   ],
   "source": [
    "data.info()"
   ]
  },
  {
   "cell_type": "code",
   "execution_count": 26,
   "id": "italic-washington",
   "metadata": {
    "ExecuteTime": {
     "end_time": "2021-02-18T14:16:59.118148Z",
     "start_time": "2021-02-18T14:16:55.621773Z"
    }
   },
   "outputs": [],
   "source": [
    "ninevars=['r1','r2','r3','r4','r5','r6','r7','r8','r9']\n",
    "zip5_mean=data.groupby('ZIP')[ninevars].mean()\n",
    "zip3_mean=data.groupby('zip3')[ninevars].mean()\n",
    "taxclass_mean=data.groupby('TAXCLASS')[ninevars].mean()\n",
    "borough_mean=data.groupby('B')[ninevars].mean()\n",
    "data=data.join(zip5_mean, on='ZIP', rsuffix='_zip5')\n",
    "data=data.join(zip3_mean, on='zip3', rsuffix='_zip3')\n",
    "data=data.join(taxclass_mean, on='TAXCLASS', rsuffix='_taxclass')\n",
    "data=data.join(borough_mean, on='B', rsuffix='_boro')\n",
    "rsuffix=['_zip5', '_zip3', '_taxclass', '_boro']\n",
    "\n",
    "for var in ninevars:\n",
    "    for r in rsuffix:\n",
    "        data[str(var)+r]=data[var]/data[str(var)+r]"
   ]
  },
  {
   "cell_type": "markdown",
   "id": "widespread-translator",
   "metadata": {},
   "source": [
    "## Output the cleaned dataset"
   ]
  },
  {
   "cell_type": "code",
   "execution_count": 27,
   "id": "fewer-management",
   "metadata": {
    "ExecuteTime": {
     "end_time": "2021-02-18T14:17:07.422289Z",
     "start_time": "2021-02-18T14:17:07.398590Z"
    }
   },
   "outputs": [
    {
     "data": {
      "text/html": [
       "<div>\n",
       "<style scoped>\n",
       "    .dataframe tbody tr th:only-of-type {\n",
       "        vertical-align: middle;\n",
       "    }\n",
       "\n",
       "    .dataframe tbody tr th {\n",
       "        vertical-align: top;\n",
       "    }\n",
       "\n",
       "    .dataframe thead th {\n",
       "        text-align: right;\n",
       "    }\n",
       "</style>\n",
       "<table border=\"1\" class=\"dataframe\">\n",
       "  <thead>\n",
       "    <tr style=\"text-align: right;\">\n",
       "      <th></th>\n",
       "      <th>RECORD</th>\n",
       "      <th>BBLE</th>\n",
       "      <th>B</th>\n",
       "      <th>BLOCK</th>\n",
       "      <th>LOT</th>\n",
       "      <th>EASEMENT</th>\n",
       "      <th>OWNER</th>\n",
       "      <th>BLDGCL</th>\n",
       "      <th>TAXCLASS</th>\n",
       "      <th>LTFRONT</th>\n",
       "      <th>...</th>\n",
       "      <th>r9_taxclass</th>\n",
       "      <th>r1_boro</th>\n",
       "      <th>r2_boro</th>\n",
       "      <th>r3_boro</th>\n",
       "      <th>r4_boro</th>\n",
       "      <th>r5_boro</th>\n",
       "      <th>r6_boro</th>\n",
       "      <th>r7_boro</th>\n",
       "      <th>r8_boro</th>\n",
       "      <th>r9_boro</th>\n",
       "    </tr>\n",
       "  </thead>\n",
       "  <tbody>\n",
       "    <tr>\n",
       "      <th>0</th>\n",
       "      <td>1</td>\n",
       "      <td>1000010101</td>\n",
       "      <td>1</td>\n",
       "      <td>1</td>\n",
       "      <td>101</td>\n",
       "      <td>NaN</td>\n",
       "      <td>U S GOVT LAND &amp; BLDGS</td>\n",
       "      <td>P7</td>\n",
       "      <td>4</td>\n",
       "      <td>500.0</td>\n",
       "      <td>...</td>\n",
       "      <td>2.794864</td>\n",
       "      <td>0.115040</td>\n",
       "      <td>6.906445</td>\n",
       "      <td>5.079761</td>\n",
       "      <td>0.238229</td>\n",
       "      <td>11.898251</td>\n",
       "      <td>6.281489</td>\n",
       "      <td>0.199588</td>\n",
       "      <td>11.907976</td>\n",
       "      <td>9.364705</td>\n",
       "    </tr>\n",
       "    <tr>\n",
       "      <th>1</th>\n",
       "      <td>2</td>\n",
       "      <td>1000010201</td>\n",
       "      <td>1</td>\n",
       "      <td>1</td>\n",
       "      <td>201</td>\n",
       "      <td>NaN</td>\n",
       "      <td>U S GOVT LAND &amp; BLDGS</td>\n",
       "      <td>Z9</td>\n",
       "      <td>4</td>\n",
       "      <td>27.0</td>\n",
       "      <td>...</td>\n",
       "      <td>25.310494</td>\n",
       "      <td>150.743329</td>\n",
       "      <td>62.545284</td>\n",
       "      <td>46.002691</td>\n",
       "      <td>116.736212</td>\n",
       "      <td>40.294396</td>\n",
       "      <td>21.272775</td>\n",
       "      <td>261.531359</td>\n",
       "      <td>107.839517</td>\n",
       "      <td>84.807469</td>\n",
       "    </tr>\n",
       "    <tr>\n",
       "      <th>2</th>\n",
       "      <td>3</td>\n",
       "      <td>1000020001</td>\n",
       "      <td>1</td>\n",
       "      <td>2</td>\n",
       "      <td>1</td>\n",
       "      <td>NaN</td>\n",
       "      <td>DEPT OF GENERAL SERVI</td>\n",
       "      <td>Y7</td>\n",
       "      <td>4</td>\n",
       "      <td>709.0</td>\n",
       "      <td>...</td>\n",
       "      <td>0.351313</td>\n",
       "      <td>0.736037</td>\n",
       "      <td>0.478140</td>\n",
       "      <td>0.638524</td>\n",
       "      <td>2.876433</td>\n",
       "      <td>1.554506</td>\n",
       "      <td>1.490065</td>\n",
       "      <td>1.276984</td>\n",
       "      <td>0.824401</td>\n",
       "      <td>1.177140</td>\n",
       "    </tr>\n",
       "    <tr>\n",
       "      <th>3</th>\n",
       "      <td>4</td>\n",
       "      <td>1000020023</td>\n",
       "      <td>1</td>\n",
       "      <td>2</td>\n",
       "      <td>23</td>\n",
       "      <td>NaN</td>\n",
       "      <td>DEPARTMENT OF BUSINES</td>\n",
       "      <td>T2</td>\n",
       "      <td>4</td>\n",
       "      <td>793.0</td>\n",
       "      <td>...</td>\n",
       "      <td>1.684761</td>\n",
       "      <td>0.252231</td>\n",
       "      <td>1.528648</td>\n",
       "      <td>3.062111</td>\n",
       "      <td>1.029451</td>\n",
       "      <td>5.190364</td>\n",
       "      <td>7.462806</td>\n",
       "      <td>0.437606</td>\n",
       "      <td>2.635669</td>\n",
       "      <td>5.645102</td>\n",
       "    </tr>\n",
       "    <tr>\n",
       "      <th>4</th>\n",
       "      <td>5</td>\n",
       "      <td>1000030001</td>\n",
       "      <td>1</td>\n",
       "      <td>3</td>\n",
       "      <td>1</td>\n",
       "      <td>NaN</td>\n",
       "      <td>PARKS AND RECREATION</td>\n",
       "      <td>Q1</td>\n",
       "      <td>4</td>\n",
       "      <td>323.0</td>\n",
       "      <td>...</td>\n",
       "      <td>216.090453</td>\n",
       "      <td>1.881096</td>\n",
       "      <td>98.033545</td>\n",
       "      <td>392.751808</td>\n",
       "      <td>8.770206</td>\n",
       "      <td>380.238492</td>\n",
       "      <td>1093.428533</td>\n",
       "      <td>3.263598</td>\n",
       "      <td>169.027775</td>\n",
       "      <td>724.050838</td>\n",
       "    </tr>\n",
       "  </tbody>\n",
       "</table>\n",
       "<p>5 rows × 81 columns</p>\n",
       "</div>"
      ],
      "text/plain": [
       "   RECORD        BBLE  B  BLOCK  LOT EASEMENT                  OWNER BLDGCL  \\\n",
       "0       1  1000010101  1      1  101      NaN  U S GOVT LAND & BLDGS     P7   \n",
       "1       2  1000010201  1      1  201      NaN  U S GOVT LAND & BLDGS     Z9   \n",
       "2       3  1000020001  1      2    1      NaN  DEPT OF GENERAL SERVI     Y7   \n",
       "3       4  1000020023  1      2   23      NaN  DEPARTMENT OF BUSINES     T2   \n",
       "4       5  1000030001  1      3    1      NaN   PARKS AND RECREATION     Q1   \n",
       "\n",
       "  TAXCLASS  LTFRONT  ...  r9_taxclass     r1_boro    r2_boro     r3_boro  \\\n",
       "0        4    500.0  ...     2.794864    0.115040   6.906445    5.079761   \n",
       "1        4     27.0  ...    25.310494  150.743329  62.545284   46.002691   \n",
       "2        4    709.0  ...     0.351313    0.736037   0.478140    0.638524   \n",
       "3        4    793.0  ...     1.684761    0.252231   1.528648    3.062111   \n",
       "4        4    323.0  ...   216.090453    1.881096  98.033545  392.751808   \n",
       "\n",
       "      r4_boro     r5_boro      r6_boro     r7_boro     r8_boro     r9_boro  \n",
       "0    0.238229   11.898251     6.281489    0.199588   11.907976    9.364705  \n",
       "1  116.736212   40.294396    21.272775  261.531359  107.839517   84.807469  \n",
       "2    2.876433    1.554506     1.490065    1.276984    0.824401    1.177140  \n",
       "3    1.029451    5.190364     7.462806    0.437606    2.635669    5.645102  \n",
       "4    8.770206  380.238492  1093.428533    3.263598  169.027775  724.050838  \n",
       "\n",
       "[5 rows x 81 columns]"
      ]
     },
     "execution_count": 27,
     "metadata": {},
     "output_type": "execute_result"
    }
   ],
   "source": [
    "data.head()"
   ]
  },
  {
   "cell_type": "code",
   "execution_count": 28,
   "id": "pacific-oxygen",
   "metadata": {
    "ExecuteTime": {
     "end_time": "2021-02-18T14:17:49.035267Z",
     "start_time": "2021-02-18T14:17:49.022893Z"
    }
   },
   "outputs": [],
   "source": [
    "rec=[917942,565392,85886,67129,684704,690833,915469,44248,565398,1059883]"
   ]
  },
  {
   "cell_type": "code",
   "execution_count": 30,
   "id": "divine-singles",
   "metadata": {
    "ExecuteTime": {
     "end_time": "2021-02-18T14:21:27.701906Z",
     "start_time": "2021-02-18T14:21:19.754689Z"
    }
   },
   "outputs": [
    {
     "data": {
      "text/html": [
       "<div>\n",
       "<style scoped>\n",
       "    .dataframe tbody tr th:only-of-type {\n",
       "        vertical-align: middle;\n",
       "    }\n",
       "\n",
       "    .dataframe tbody tr th {\n",
       "        vertical-align: top;\n",
       "    }\n",
       "\n",
       "    .dataframe thead th {\n",
       "        text-align: right;\n",
       "    }\n",
       "</style>\n",
       "<table border=\"1\" class=\"dataframe\">\n",
       "  <thead>\n",
       "    <tr style=\"text-align: right;\">\n",
       "      <th></th>\n",
       "      <th>RECORD</th>\n",
       "      <th>r1</th>\n",
       "      <th>r2</th>\n",
       "      <th>r3</th>\n",
       "      <th>r4</th>\n",
       "      <th>r5</th>\n",
       "      <th>r6</th>\n",
       "      <th>r7</th>\n",
       "      <th>r8</th>\n",
       "      <th>r9</th>\n",
       "      <th>...</th>\n",
       "      <th>r9_taxclass</th>\n",
       "      <th>r1_boro</th>\n",
       "      <th>r2_boro</th>\n",
       "      <th>r3_boro</th>\n",
       "      <th>r4_boro</th>\n",
       "      <th>r5_boro</th>\n",
       "      <th>r6_boro</th>\n",
       "      <th>r7_boro</th>\n",
       "      <th>r8_boro</th>\n",
       "      <th>r9_boro</th>\n",
       "    </tr>\n",
       "  </thead>\n",
       "  <tbody>\n",
       "    <tr>\n",
       "      <th>0</th>\n",
       "      <td>1</td>\n",
       "      <td>-0.255761</td>\n",
       "      <td>1.391255</td>\n",
       "      <td>0.298531</td>\n",
       "      <td>-0.016532</td>\n",
       "      <td>0.733160</td>\n",
       "      <td>0.191155</td>\n",
       "      <td>-0.032729</td>\n",
       "      <td>1.279582</td>\n",
       "      <td>0.410407</td>\n",
       "      <td>...</td>\n",
       "      <td>0.239674</td>\n",
       "      <td>-0.291407</td>\n",
       "      <td>1.378940</td>\n",
       "      <td>0.423640</td>\n",
       "      <td>-0.035493</td>\n",
       "      <td>0.353823</td>\n",
       "      <td>0.146368</td>\n",
       "      <td>-0.069324</td>\n",
       "      <td>0.464675</td>\n",
       "      <td>0.328655</td>\n",
       "    </tr>\n",
       "    <tr>\n",
       "      <th>1</th>\n",
       "      <td>2</td>\n",
       "      <td>80.032072</td>\n",
       "      <td>14.476590</td>\n",
       "      <td>4.049227</td>\n",
       "      <td>22.085202</td>\n",
       "      <td>2.552784</td>\n",
       "      <td>0.699158</td>\n",
       "      <td>89.652154</td>\n",
       "      <td>11.941798</td>\n",
       "      <td>3.980206</td>\n",
       "      <td>...</td>\n",
       "      <td>3.246255</td>\n",
       "      <td>49.308730</td>\n",
       "      <td>14.368584</td>\n",
       "      <td>4.673052</td>\n",
       "      <td>5.392397</td>\n",
       "      <td>1.275732</td>\n",
       "      <td>0.561827</td>\n",
       "      <td>22.564714</td>\n",
       "      <td>4.551318</td>\n",
       "      <td>3.292858</td>\n",
       "    </tr>\n",
       "    <tr>\n",
       "      <th>2</th>\n",
       "      <td>3</td>\n",
       "      <td>0.075242</td>\n",
       "      <td>-0.120576</td>\n",
       "      <td>-0.108520</td>\n",
       "      <td>0.483982</td>\n",
       "      <td>0.070334</td>\n",
       "      <td>0.028791</td>\n",
       "      <td>0.337016</td>\n",
       "      <td>0.047709</td>\n",
       "      <td>0.022988</td>\n",
       "      <td>...</td>\n",
       "      <td>-0.086621</td>\n",
       "      <td>-0.086920</td>\n",
       "      <td>-0.121835</td>\n",
       "      <td>-0.037535</td>\n",
       "      <td>0.087427</td>\n",
       "      <td>0.018003</td>\n",
       "      <td>0.013581</td>\n",
       "      <td>0.023990</td>\n",
       "      <td>-0.007480</td>\n",
       "      <td>0.006960</td>\n",
       "    </tr>\n",
       "    <tr>\n",
       "      <th>3</th>\n",
       "      <td>4</td>\n",
       "      <td>-0.182636</td>\n",
       "      <td>0.126486</td>\n",
       "      <td>0.113608</td>\n",
       "      <td>0.133577</td>\n",
       "      <td>0.303320</td>\n",
       "      <td>0.231186</td>\n",
       "      <td>0.048955</td>\n",
       "      <td>0.249021</td>\n",
       "      <td>0.234403</td>\n",
       "      <td>...</td>\n",
       "      <td>0.091438</td>\n",
       "      <td>-0.246232</td>\n",
       "      <td>0.123420</td>\n",
       "      <td>0.214128</td>\n",
       "      <td>0.001372</td>\n",
       "      <td>0.136044</td>\n",
       "      <td>0.179106</td>\n",
       "      <td>-0.048709</td>\n",
       "      <td>0.069679</td>\n",
       "      <td>0.182510</td>\n",
       "    </tr>\n",
       "    <tr>\n",
       "      <th>4</th>\n",
       "      <td>5</td>\n",
       "      <td>0.685581</td>\n",
       "      <td>22.822842</td>\n",
       "      <td>35.829707</td>\n",
       "      <td>1.602135</td>\n",
       "      <td>24.336380</td>\n",
       "      <td>37.030788</td>\n",
       "      <td>1.018790</td>\n",
       "      <td>18.742506</td>\n",
       "      <td>34.227910</td>\n",
       "      <td>...</td>\n",
       "      <td>28.721692</td>\n",
       "      <td>0.290135</td>\n",
       "      <td>22.653802</td>\n",
       "      <td>40.679265</td>\n",
       "      <td>0.362030</td>\n",
       "      <td>12.312361</td>\n",
       "      <td>30.274899</td>\n",
       "      <td>0.196051</td>\n",
       "      <td>7.157913</td>\n",
       "      <td>28.409205</td>\n",
       "    </tr>\n",
       "  </tbody>\n",
       "</table>\n",
       "<p>5 rows × 46 columns</p>\n",
       "</div>"
      ],
      "text/plain": [
       "   RECORD         r1         r2         r3         r4         r5         r6  \\\n",
       "0       1  -0.255761   1.391255   0.298531  -0.016532   0.733160   0.191155   \n",
       "1       2  80.032072  14.476590   4.049227  22.085202   2.552784   0.699158   \n",
       "2       3   0.075242  -0.120576  -0.108520   0.483982   0.070334   0.028791   \n",
       "3       4  -0.182636   0.126486   0.113608   0.133577   0.303320   0.231186   \n",
       "4       5   0.685581  22.822842  35.829707   1.602135  24.336380  37.030788   \n",
       "\n",
       "          r7         r8         r9  ...  r9_taxclass    r1_boro    r2_boro  \\\n",
       "0  -0.032729   1.279582   0.410407  ...     0.239674  -0.291407   1.378940   \n",
       "1  89.652154  11.941798   3.980206  ...     3.246255  49.308730  14.368584   \n",
       "2   0.337016   0.047709   0.022988  ...    -0.086621  -0.086920  -0.121835   \n",
       "3   0.048955   0.249021   0.234403  ...     0.091438  -0.246232   0.123420   \n",
       "4   1.018790  18.742506  34.227910  ...    28.721692   0.290135  22.653802   \n",
       "\n",
       "     r3_boro   r4_boro    r5_boro    r6_boro    r7_boro   r8_boro    r9_boro  \n",
       "0   0.423640 -0.035493   0.353823   0.146368  -0.069324  0.464675   0.328655  \n",
       "1   4.673052  5.392397   1.275732   0.561827  22.564714  4.551318   3.292858  \n",
       "2  -0.037535  0.087427   0.018003   0.013581   0.023990 -0.007480   0.006960  \n",
       "3   0.214128  0.001372   0.136044   0.179106  -0.048709  0.069679   0.182510  \n",
       "4  40.679265  0.362030  12.312361  30.274899   0.196051  7.157913  28.409205  \n",
       "\n",
       "[5 rows x 46 columns]"
      ]
     },
     "execution_count": 30,
     "metadata": {},
     "output_type": "execute_result"
    }
   ],
   "source": [
    "# drop any columns that aren't needed\n",
    "data2=data.drop(data.iloc[:, 1:36], axis = 1) \n",
    "data2.iloc[:,1:] = (data2.iloc[:,1:] - data2.iloc[:,1:].mean()) / data2.iloc[:,1:].std()\n",
    "data2.head()"
   ]
  },
  {
   "cell_type": "code",
   "execution_count": 36,
   "id": "interstate-accounting",
   "metadata": {
    "ExecuteTime": {
     "end_time": "2021-02-18T14:25:26.163130Z",
     "start_time": "2021-02-18T14:25:24.763600Z"
    }
   },
   "outputs": [
    {
     "data": {
      "text/plain": [
       "(array([ 0.5,  1.5,  2.5,  3.5,  4.5,  5.5,  6.5,  7.5,  8.5,  9.5, 10.5,\n",
       "        11.5, 12.5, 13.5, 14.5, 15.5, 16.5, 17.5, 18.5, 19.5, 20.5, 21.5,\n",
       "        22.5, 23.5, 24.5, 25.5, 26.5, 27.5, 28.5, 29.5, 30.5, 31.5, 32.5,\n",
       "        33.5, 34.5, 35.5, 36.5, 37.5, 38.5, 39.5, 40.5, 41.5, 42.5, 43.5,\n",
       "        44.5]),\n",
       " [Text(0.5, 1, 'r1'),\n",
       "  Text(1.5, 1, 'r2'),\n",
       "  Text(2.5, 1, 'r3'),\n",
       "  Text(3.5, 1, 'r4'),\n",
       "  Text(4.5, 1, 'r5'),\n",
       "  Text(5.5, 1, 'r6'),\n",
       "  Text(6.5, 1, 'r7'),\n",
       "  Text(7.5, 1, 'r8'),\n",
       "  Text(8.5, 1, 'r9'),\n",
       "  Text(9.5, 1, 'r1_zip5'),\n",
       "  Text(10.5, 1, 'r2_zip5'),\n",
       "  Text(11.5, 1, 'r3_zip5'),\n",
       "  Text(12.5, 1, 'r4_zip5'),\n",
       "  Text(13.5, 1, 'r5_zip5'),\n",
       "  Text(14.5, 1, 'r6_zip5'),\n",
       "  Text(15.5, 1, 'r7_zip5'),\n",
       "  Text(16.5, 1, 'r8_zip5'),\n",
       "  Text(17.5, 1, 'r9_zip5'),\n",
       "  Text(18.5, 1, 'r1_zip3'),\n",
       "  Text(19.5, 1, 'r2_zip3'),\n",
       "  Text(20.5, 1, 'r3_zip3'),\n",
       "  Text(21.5, 1, 'r4_zip3'),\n",
       "  Text(22.5, 1, 'r5_zip3'),\n",
       "  Text(23.5, 1, 'r6_zip3'),\n",
       "  Text(24.5, 1, 'r7_zip3'),\n",
       "  Text(25.5, 1, 'r8_zip3'),\n",
       "  Text(26.5, 1, 'r9_zip3'),\n",
       "  Text(27.5, 1, 'r1_taxclass'),\n",
       "  Text(28.5, 1, 'r2_taxclass'),\n",
       "  Text(29.5, 1, 'r3_taxclass'),\n",
       "  Text(30.5, 1, 'r4_taxclass'),\n",
       "  Text(31.5, 1, 'r5_taxclass'),\n",
       "  Text(32.5, 1, 'r6_taxclass'),\n",
       "  Text(33.5, 1, 'r7_taxclass'),\n",
       "  Text(34.5, 1, 'r8_taxclass'),\n",
       "  Text(35.5, 1, 'r9_taxclass'),\n",
       "  Text(36.5, 1, 'r1_boro'),\n",
       "  Text(37.5, 1, 'r2_boro'),\n",
       "  Text(38.5, 1, 'r3_boro'),\n",
       "  Text(39.5, 1, 'r4_boro'),\n",
       "  Text(40.5, 1, 'r5_boro'),\n",
       "  Text(41.5, 1, 'r6_boro'),\n",
       "  Text(42.5, 1, 'r7_boro'),\n",
       "  Text(43.5, 1, 'r8_boro'),\n",
       "  Text(44.5, 1, 'r9_boro')])"
      ]
     },
     "execution_count": 36,
     "metadata": {},
     "output_type": "execute_result"
    },
    {
     "data": {
      "image/png": "[encoded data removed]",
      "text/plain": [
       "<Figure size 1440x720 with 2 Axes>"
      ]
     },
     "metadata": {
      "needs_background": "light"
     },
     "output_type": "display_data"
    }
   ],
   "source": [
    "data_heatmap = data2[data2.RECORD.isin(rec)].iloc[:,1:].abs()\n",
    "plt.rcParams['figure.figsize'] = (20,10)\n",
    "ax = sns.heatmap(data_heatmap, center=0, vmin=0, vmax=50, cmap='Reds')\n",
    "ax.xaxis.tick_top()\n",
    "ax.xaxis.set_label_position('top')\n",
    "plt.xticks(rotation=90)"
   ]
  },
  {
   "cell_type": "code",
   "execution_count": 138,
   "id": "freelance-colony",
   "metadata": {
    "ExecuteTime": {
     "end_time": "2021-02-17T07:05:30.641796Z",
     "start_time": "2021-02-17T07:05:30.513108Z"
    }
   },
   "outputs": [
    {
     "name": "stdout",
     "output_type": "stream",
     "text": [
      "<class 'pandas.core.frame.DataFrame'>\n",
      "RangeIndex: 1070994 entries, 0 to 1070993\n",
      "Data columns (total 46 columns):\n",
      " #   Column       Non-Null Count    Dtype  \n",
      "---  ------       --------------    -----  \n",
      " 0   RECORD       1070994 non-null  int64  \n",
      " 1   r1           1070994 non-null  float64\n",
      " 2   r2           1070994 non-null  float64\n",
      " 3   r3           1070994 non-null  float64\n",
      " 4   r4           1070994 non-null  float64\n",
      " 5   r5           1070994 non-null  float64\n",
      " 6   r6           1070994 non-null  float64\n",
      " 7   r7           1070994 non-null  float64\n",
      " 8   r8           1070994 non-null  float64\n",
      " 9   r9           1070994 non-null  float64\n",
      " 10  r1_zip5      1070994 non-null  float64\n",
      " 11  r2_zip5      1070994 non-null  float64\n",
      " 12  r3_zip5      1070994 non-null  float64\n",
      " 13  r4_zip5      1070994 non-null  float64\n",
      " 14  r5_zip5      1070994 non-null  float64\n",
      " 15  r6_zip5      1070994 non-null  float64\n",
      " 16  r7_zip5      1070994 non-null  float64\n",
      " 17  r8_zip5      1070994 non-null  float64\n",
      " 18  r9_zip5      1070994 non-null  float64\n",
      " 19  r1_zip3      1070994 non-null  float64\n",
      " 20  r2_zip3      1070994 non-null  float64\n",
      " 21  r3_zip3      1070994 non-null  float64\n",
      " 22  r4_zip3      1070994 non-null  float64\n",
      " 23  r5_zip3      1070994 non-null  float64\n",
      " 24  r6_zip3      1070994 non-null  float64\n",
      " 25  r7_zip3      1070994 non-null  float64\n",
      " 26  r8_zip3      1070994 non-null  float64\n",
      " 27  r9_zip3      1070994 non-null  float64\n",
      " 28  r1_taxclass  1070994 non-null  float64\n",
      " 29  r2_taxclass  1070994 non-null  float64\n",
      " 30  r3_taxclass  1070994 non-null  float64\n",
      " 31  r4_taxclass  1070994 non-null  float64\n",
      " 32  r5_taxclass  1070994 non-null  float64\n",
      " 33  r6_taxclass  1070994 non-null  float64\n",
      " 34  r7_taxclass  1070994 non-null  float64\n",
      " 35  r8_taxclass  1070994 non-null  float64\n",
      " 36  r9_taxclass  1070994 non-null  float64\n",
      " 37  r1_boro      1070994 non-null  float64\n",
      " 38  r2_boro      1070994 non-null  float64\n",
      " 39  r3_boro      1070994 non-null  float64\n",
      " 40  r4_boro      1070994 non-null  float64\n",
      " 41  r5_boro      1070994 non-null  float64\n",
      " 42  r6_boro      1070994 non-null  float64\n",
      " 43  r7_boro      1070994 non-null  float64\n",
      " 44  r8_boro      1070994 non-null  float64\n",
      " 45  r9_boro      1070994 non-null  float64\n",
      "dtypes: float64(45), int64(1)\n",
      "memory usage: 375.9 MB\n"
     ]
    }
   ],
   "source": [
    "data.info()"
   ]
  },
  {
   "cell_type": "code",
   "execution_count": 43,
   "id": "italic-decimal",
   "metadata": {
    "ExecuteTime": {
     "end_time": "2021-02-01T01:24:17.976444Z",
     "start_time": "2021-02-01T01:24:15.720196Z"
    }
   },
   "outputs": [],
   "source": [
    "# stats = data.describe().transpose()\n",
    "# stats.to_csv('stats_on_vars.csv')"
   ]
  },
  {
   "cell_type": "code",
   "execution_count": 28,
   "id": "stupid-greek",
   "metadata": {
    "ExecuteTime": {
     "end_time": "2021-02-10T03:38:19.214747Z",
     "start_time": "2021-02-10T03:38:13.244050Z"
    }
   },
   "outputs": [
    {
     "data": {
      "text/html": [
       "<div>\n",
       "<style scoped>\n",
       "    .dataframe tbody tr th:only-of-type {\n",
       "        vertical-align: middle;\n",
       "    }\n",
       "\n",
       "    .dataframe tbody tr th {\n",
       "        vertical-align: top;\n",
       "    }\n",
       "\n",
       "    .dataframe thead th {\n",
       "        text-align: right;\n",
       "    }\n",
       "</style>\n",
       "<table border=\"1\" class=\"dataframe\">\n",
       "  <thead>\n",
       "    <tr style=\"text-align: right;\">\n",
       "      <th></th>\n",
       "      <th>RECORD</th>\n",
       "      <th>r1</th>\n",
       "      <th>r2</th>\n",
       "      <th>r3</th>\n",
       "      <th>r4</th>\n",
       "      <th>r5</th>\n",
       "      <th>r6</th>\n",
       "      <th>r7</th>\n",
       "      <th>r8</th>\n",
       "      <th>r9</th>\n",
       "      <th>...</th>\n",
       "      <th>r9_taxclass</th>\n",
       "      <th>r1_boro</th>\n",
       "      <th>r2_boro</th>\n",
       "      <th>r3_boro</th>\n",
       "      <th>r4_boro</th>\n",
       "      <th>r5_boro</th>\n",
       "      <th>r6_boro</th>\n",
       "      <th>r7_boro</th>\n",
       "      <th>r8_boro</th>\n",
       "      <th>r9_boro</th>\n",
       "    </tr>\n",
       "  </thead>\n",
       "  <tbody>\n",
       "    <tr>\n",
       "      <th>0</th>\n",
       "      <td>1</td>\n",
       "      <td>40.917782</td>\n",
       "      <td>3784.190253</td>\n",
       "      <td>694.733351</td>\n",
       "      <td>8.079350</td>\n",
       "      <td>747.200744</td>\n",
       "      <td>137.177373</td>\n",
       "      <td>18.413002</td>\n",
       "      <td>1702.885614</td>\n",
       "      <td>312.630008</td>\n",
       "      <td>...</td>\n",
       "      <td>2.624110</td>\n",
       "      <td>0.114401</td>\n",
       "      <td>6.878229</td>\n",
       "      <td>4.993136</td>\n",
       "      <td>0.234725</td>\n",
       "      <td>11.759225</td>\n",
       "      <td>6.071127</td>\n",
       "      <td>0.197696</td>\n",
       "      <td>11.818277</td>\n",
       "      <td>9.069199</td>\n",
       "    </tr>\n",
       "    <tr>\n",
       "      <th>1</th>\n",
       "      <td>2</td>\n",
       "      <td>53655.384245</td>\n",
       "      <td>34269.909866</td>\n",
       "      <td>6291.557172</td>\n",
       "      <td>3961.860416</td>\n",
       "      <td>2530.456193</td>\n",
       "      <td>464.562348</td>\n",
       "      <td>24144.922910</td>\n",
       "      <td>15421.459440</td>\n",
       "      <td>2831.200728</td>\n",
       "      <td>...</td>\n",
       "      <td>23.764139</td>\n",
       "      <td>150.013517</td>\n",
       "      <td>62.289753</td>\n",
       "      <td>45.218210</td>\n",
       "      <td>115.101896</td>\n",
       "      <td>39.823572</td>\n",
       "      <td>20.560366</td>\n",
       "      <td>259.238195</td>\n",
       "      <td>107.027200</td>\n",
       "      <td>82.131345</td>\n",
       "    </tr>\n",
       "    <tr>\n",
       "      <th>2</th>\n",
       "      <td>3</td>\n",
       "      <td>261.796157</td>\n",
       "      <td>261.796157</td>\n",
       "      <td>87.265386</td>\n",
       "      <td>97.551991</td>\n",
       "      <td>97.551991</td>\n",
       "      <td>32.517330</td>\n",
       "      <td>117.808271</td>\n",
       "      <td>117.808271</td>\n",
       "      <td>39.269424</td>\n",
       "      <td>...</td>\n",
       "      <td>0.329614</td>\n",
       "      <td>0.731948</td>\n",
       "      <td>0.475847</td>\n",
       "      <td>0.627187</td>\n",
       "      <td>2.834128</td>\n",
       "      <td>1.535244</td>\n",
       "      <td>1.439136</td>\n",
       "      <td>1.264879</td>\n",
       "      <td>0.817607</td>\n",
       "      <td>1.139181</td>\n",
       "    </tr>\n",
       "    <tr>\n",
       "      <th>3</th>\n",
       "      <td>4</td>\n",
       "      <td>89.714219</td>\n",
       "      <td>836.980890</td>\n",
       "      <td>418.490445</td>\n",
       "      <td>34.913021</td>\n",
       "      <td>325.717946</td>\n",
       "      <td>162.858973</td>\n",
       "      <td>40.371399</td>\n",
       "      <td>376.641401</td>\n",
       "      <td>188.320700</td>\n",
       "      <td>...</td>\n",
       "      <td>1.580700</td>\n",
       "      <td>0.250829</td>\n",
       "      <td>1.521315</td>\n",
       "      <td>3.007743</td>\n",
       "      <td>1.014310</td>\n",
       "      <td>5.126053</td>\n",
       "      <td>7.207730</td>\n",
       "      <td>0.433458</td>\n",
       "      <td>2.613947</td>\n",
       "      <td>5.463065</td>\n",
       "    </tr>\n",
       "    <tr>\n",
       "      <th>4</th>\n",
       "      <td>5</td>\n",
       "      <td>669.074647</td>\n",
       "      <td>53676.325646</td>\n",
       "      <td>53676.325646</td>\n",
       "      <td>297.434763</td>\n",
       "      <td>23861.620343</td>\n",
       "      <td>23861.620343</td>\n",
       "      <td>301.083591</td>\n",
       "      <td>24154.346541</td>\n",
       "      <td>24154.346541</td>\n",
       "      <td>...</td>\n",
       "      <td>202.743398</td>\n",
       "      <td>1.870646</td>\n",
       "      <td>97.563288</td>\n",
       "      <td>385.778484</td>\n",
       "      <td>8.641219</td>\n",
       "      <td>375.527135</td>\n",
       "      <td>1056.055560</td>\n",
       "      <td>3.232662</td>\n",
       "      <td>167.634723</td>\n",
       "      <td>700.702336</td>\n",
       "    </tr>\n",
       "  </tbody>\n",
       "</table>\n",
       "<p>5 rows × 46 columns</p>\n",
       "</div>"
      ],
      "text/plain": [
       "   RECORD            r1            r2            r3           r4  \\\n",
       "0       1     40.917782   3784.190253    694.733351     8.079350   \n",
       "1       2  53655.384245  34269.909866   6291.557172  3961.860416   \n",
       "2       3    261.796157    261.796157     87.265386    97.551991   \n",
       "3       4     89.714219    836.980890    418.490445    34.913021   \n",
       "4       5    669.074647  53676.325646  53676.325646   297.434763   \n",
       "\n",
       "             r5            r6            r7            r8            r9  ...  \\\n",
       "0    747.200744    137.177373     18.413002   1702.885614    312.630008  ...   \n",
       "1   2530.456193    464.562348  24144.922910  15421.459440   2831.200728  ...   \n",
       "2     97.551991     32.517330    117.808271    117.808271     39.269424  ...   \n",
       "3    325.717946    162.858973     40.371399    376.641401    188.320700  ...   \n",
       "4  23861.620343  23861.620343    301.083591  24154.346541  24154.346541  ...   \n",
       "\n",
       "   r9_taxclass     r1_boro    r2_boro     r3_boro     r4_boro     r5_boro  \\\n",
       "0     2.624110    0.114401   6.878229    4.993136    0.234725   11.759225   \n",
       "1    23.764139  150.013517  62.289753   45.218210  115.101896   39.823572   \n",
       "2     0.329614    0.731948   0.475847    0.627187    2.834128    1.535244   \n",
       "3     1.580700    0.250829   1.521315    3.007743    1.014310    5.126053   \n",
       "4   202.743398    1.870646  97.563288  385.778484    8.641219  375.527135   \n",
       "\n",
       "       r6_boro     r7_boro     r8_boro     r9_boro  \n",
       "0     6.071127    0.197696   11.818277    9.069199  \n",
       "1    20.560366  259.238195  107.027200   82.131345  \n",
       "2     1.439136    1.264879    0.817607    1.139181  \n",
       "3     7.207730    0.433458    2.613947    5.463065  \n",
       "4  1056.055560    3.232662  167.634723  700.702336  \n",
       "\n",
       "[5 rows x 46 columns]"
      ]
     },
     "execution_count": 28,
     "metadata": {},
     "output_type": "execute_result"
    }
   ],
   "source": [
    "data.drop(data.iloc[:, 1:36], inplace = True, axis = 1)\n",
    "data.head()"
   ]
  },
  {
   "cell_type": "markdown",
   "id": "endless-second",
   "metadata": {},
   "source": [
    "# Assignment 3"
   ]
  },
  {
   "cell_type": "code",
   "execution_count": 32,
   "id": "responsible-paintball",
   "metadata": {
    "ExecuteTime": {
     "end_time": "2021-02-18T14:23:43.910495Z",
     "start_time": "2021-02-18T14:23:37.456553Z"
    }
   },
   "outputs": [],
   "source": [
    "import pandas as pd\n",
    "from sklearn.decomposition import PCA\n",
    "from keras.models import Model\n",
    "from keras.layers import Input, Dense\n",
    "import matplotlib.pyplot as plt\n",
    "import seaborn as sns"
   ]
  },
  {
   "cell_type": "code",
   "execution_count": 162,
   "id": "falling-length",
   "metadata": {
    "ExecuteTime": {
     "end_time": "2021-02-17T09:49:33.133278Z",
     "start_time": "2021-02-17T09:49:32.878748Z"
    }
   },
   "outputs": [
    {
     "data": {
      "text/html": [
       "<div>\n",
       "<style scoped>\n",
       "    .dataframe tbody tr th:only-of-type {\n",
       "        vertical-align: middle;\n",
       "    }\n",
       "\n",
       "    .dataframe tbody tr th {\n",
       "        vertical-align: top;\n",
       "    }\n",
       "\n",
       "    .dataframe thead th {\n",
       "        text-align: right;\n",
       "    }\n",
       "</style>\n",
       "<table border=\"1\" class=\"dataframe\">\n",
       "  <thead>\n",
       "    <tr style=\"text-align: right;\">\n",
       "      <th></th>\n",
       "      <th>r1</th>\n",
       "      <th>r2</th>\n",
       "      <th>r3</th>\n",
       "      <th>r4</th>\n",
       "      <th>r5</th>\n",
       "      <th>r6</th>\n",
       "      <th>r7</th>\n",
       "      <th>r8</th>\n",
       "      <th>r9</th>\n",
       "      <th>r1_zip5</th>\n",
       "      <th>...</th>\n",
       "      <th>r9_taxclass</th>\n",
       "      <th>r1_boro</th>\n",
       "      <th>r2_boro</th>\n",
       "      <th>r3_boro</th>\n",
       "      <th>r4_boro</th>\n",
       "      <th>r5_boro</th>\n",
       "      <th>r6_boro</th>\n",
       "      <th>r7_boro</th>\n",
       "      <th>r8_boro</th>\n",
       "      <th>r9_boro</th>\n",
       "    </tr>\n",
       "  </thead>\n",
       "  <tbody>\n",
       "    <tr>\n",
       "      <th>0</th>\n",
       "      <td>-0.255761</td>\n",
       "      <td>1.391255</td>\n",
       "      <td>0.298531</td>\n",
       "      <td>-0.016532</td>\n",
       "      <td>0.733160</td>\n",
       "      <td>0.191155</td>\n",
       "      <td>-0.032729</td>\n",
       "      <td>1.279582</td>\n",
       "      <td>0.410407</td>\n",
       "      <td>-0.316187</td>\n",
       "      <td>...</td>\n",
       "      <td>0.239674</td>\n",
       "      <td>-0.291407</td>\n",
       "      <td>1.378940</td>\n",
       "      <td>0.423640</td>\n",
       "      <td>-0.035493</td>\n",
       "      <td>0.353823</td>\n",
       "      <td>0.146368</td>\n",
       "      <td>-0.069324</td>\n",
       "      <td>0.464675</td>\n",
       "      <td>0.328655</td>\n",
       "    </tr>\n",
       "    <tr>\n",
       "      <th>1</th>\n",
       "      <td>80.032072</td>\n",
       "      <td>14.476590</td>\n",
       "      <td>4.049227</td>\n",
       "      <td>22.085202</td>\n",
       "      <td>2.552784</td>\n",
       "      <td>0.699158</td>\n",
       "      <td>89.652154</td>\n",
       "      <td>11.941798</td>\n",
       "      <td>3.980206</td>\n",
       "      <td>45.870785</td>\n",
       "      <td>...</td>\n",
       "      <td>3.246255</td>\n",
       "      <td>49.308730</td>\n",
       "      <td>14.368584</td>\n",
       "      <td>4.673052</td>\n",
       "      <td>5.392397</td>\n",
       "      <td>1.275732</td>\n",
       "      <td>0.561827</td>\n",
       "      <td>22.564714</td>\n",
       "      <td>4.551318</td>\n",
       "      <td>3.292858</td>\n",
       "    </tr>\n",
       "    <tr>\n",
       "      <th>2</th>\n",
       "      <td>0.075242</td>\n",
       "      <td>-0.120576</td>\n",
       "      <td>-0.108520</td>\n",
       "      <td>0.483982</td>\n",
       "      <td>0.070334</td>\n",
       "      <td>0.028791</td>\n",
       "      <td>0.337016</td>\n",
       "      <td>0.047709</td>\n",
       "      <td>0.022988</td>\n",
       "      <td>-0.125772</td>\n",
       "      <td>...</td>\n",
       "      <td>-0.086621</td>\n",
       "      <td>-0.086920</td>\n",
       "      <td>-0.121835</td>\n",
       "      <td>-0.037535</td>\n",
       "      <td>0.087427</td>\n",
       "      <td>0.018003</td>\n",
       "      <td>0.013581</td>\n",
       "      <td>0.023990</td>\n",
       "      <td>-0.007480</td>\n",
       "      <td>0.006960</td>\n",
       "    </tr>\n",
       "    <tr>\n",
       "      <th>3</th>\n",
       "      <td>-0.182636</td>\n",
       "      <td>0.126486</td>\n",
       "      <td>0.113608</td>\n",
       "      <td>0.133577</td>\n",
       "      <td>0.303320</td>\n",
       "      <td>0.231186</td>\n",
       "      <td>0.048955</td>\n",
       "      <td>0.249021</td>\n",
       "      <td>0.234403</td>\n",
       "      <td>-0.274121</td>\n",
       "      <td>...</td>\n",
       "      <td>0.091438</td>\n",
       "      <td>-0.246232</td>\n",
       "      <td>0.123420</td>\n",
       "      <td>0.214128</td>\n",
       "      <td>0.001372</td>\n",
       "      <td>0.136044</td>\n",
       "      <td>0.179106</td>\n",
       "      <td>-0.048709</td>\n",
       "      <td>0.069679</td>\n",
       "      <td>0.182510</td>\n",
       "    </tr>\n",
       "    <tr>\n",
       "      <th>4</th>\n",
       "      <td>0.685581</td>\n",
       "      <td>22.822842</td>\n",
       "      <td>35.829707</td>\n",
       "      <td>1.602135</td>\n",
       "      <td>24.336380</td>\n",
       "      <td>37.030788</td>\n",
       "      <td>1.018790</td>\n",
       "      <td>18.742506</td>\n",
       "      <td>34.227910</td>\n",
       "      <td>0.225337</td>\n",
       "      <td>...</td>\n",
       "      <td>28.721692</td>\n",
       "      <td>0.290135</td>\n",
       "      <td>22.653802</td>\n",
       "      <td>40.679265</td>\n",
       "      <td>0.362030</td>\n",
       "      <td>12.312361</td>\n",
       "      <td>30.274899</td>\n",
       "      <td>0.196051</td>\n",
       "      <td>7.157913</td>\n",
       "      <td>28.409205</td>\n",
       "    </tr>\n",
       "  </tbody>\n",
       "</table>\n",
       "<p>5 rows × 45 columns</p>\n",
       "</div>"
      ],
      "text/plain": [
       "          r1         r2         r3         r4         r5         r6  \\\n",
       "0  -0.255761   1.391255   0.298531  -0.016532   0.733160   0.191155   \n",
       "1  80.032072  14.476590   4.049227  22.085202   2.552784   0.699158   \n",
       "2   0.075242  -0.120576  -0.108520   0.483982   0.070334   0.028791   \n",
       "3  -0.182636   0.126486   0.113608   0.133577   0.303320   0.231186   \n",
       "4   0.685581  22.822842  35.829707   1.602135  24.336380  37.030788   \n",
       "\n",
       "          r7         r8         r9    r1_zip5  ...  r9_taxclass    r1_boro  \\\n",
       "0  -0.032729   1.279582   0.410407  -0.316187  ...     0.239674  -0.291407   \n",
       "1  89.652154  11.941798   3.980206  45.870785  ...     3.246255  49.308730   \n",
       "2   0.337016   0.047709   0.022988  -0.125772  ...    -0.086621  -0.086920   \n",
       "3   0.048955   0.249021   0.234403  -0.274121  ...     0.091438  -0.246232   \n",
       "4   1.018790  18.742506  34.227910   0.225337  ...    28.721692   0.290135   \n",
       "\n",
       "     r2_boro    r3_boro   r4_boro    r5_boro    r6_boro    r7_boro   r8_boro  \\\n",
       "0   1.378940   0.423640 -0.035493   0.353823   0.146368  -0.069324  0.464675   \n",
       "1  14.368584   4.673052  5.392397   1.275732   0.561827  22.564714  4.551318   \n",
       "2  -0.121835  -0.037535  0.087427   0.018003   0.013581   0.023990 -0.007480   \n",
       "3   0.123420   0.214128  0.001372   0.136044   0.179106  -0.048709  0.069679   \n",
       "4  22.653802  40.679265  0.362030  12.312361  30.274899   0.196051  7.157913   \n",
       "\n",
       "     r9_boro  \n",
       "0   0.328655  \n",
       "1   3.292858  \n",
       "2   0.006960  \n",
       "3   0.182510  \n",
       "4  28.409205  \n",
       "\n",
       "[5 rows x 45 columns]"
      ]
     },
     "execution_count": 162,
     "metadata": {},
     "output_type": "execute_result"
    }
   ],
   "source": [
    "# this dataset has 45 columns\n",
    "data.head()"
   ]
  },
  {
   "cell_type": "code",
   "execution_count": 163,
   "id": "unlikely-detail",
   "metadata": {
    "ExecuteTime": {
     "end_time": "2021-02-17T09:49:45.635951Z",
     "start_time": "2021-02-17T09:49:45.628063Z"
    }
   },
   "outputs": [
    {
     "data": {
      "text/plain": [
       "1070994"
      ]
     },
     "execution_count": 163,
     "metadata": {},
     "output_type": "execute_result"
    }
   ],
   "source": [
    "len(data)"
   ]
  },
  {
   "cell_type": "code",
   "execution_count": 141,
   "id": "sustained-prairie",
   "metadata": {
    "ExecuteTime": {
     "end_time": "2021-02-17T07:11:06.705516Z",
     "start_time": "2021-02-17T07:11:05.104356Z"
    }
   },
   "outputs": [],
   "source": [
    "data_orig = data.copy()\n",
    "data.drop(columns='RECORD', inplace=True)"
   ]
  },
  {
   "cell_type": "code",
   "execution_count": 142,
   "id": "activated-sculpture",
   "metadata": {
    "ExecuteTime": {
     "end_time": "2021-02-17T07:11:09.184066Z",
     "start_time": "2021-02-17T07:11:09.070227Z"
    }
   },
   "outputs": [
    {
     "name": "stdout",
     "output_type": "stream",
     "text": [
      "<class 'pandas.core.frame.DataFrame'>\n",
      "RangeIndex: 1070994 entries, 0 to 1070993\n",
      "Data columns (total 45 columns):\n",
      " #   Column       Non-Null Count    Dtype  \n",
      "---  ------       --------------    -----  \n",
      " 0   r1           1070994 non-null  float64\n",
      " 1   r2           1070994 non-null  float64\n",
      " 2   r3           1070994 non-null  float64\n",
      " 3   r4           1070994 non-null  float64\n",
      " 4   r5           1070994 non-null  float64\n",
      " 5   r6           1070994 non-null  float64\n",
      " 6   r7           1070994 non-null  float64\n",
      " 7   r8           1070994 non-null  float64\n",
      " 8   r9           1070994 non-null  float64\n",
      " 9   r1_zip5      1070994 non-null  float64\n",
      " 10  r2_zip5      1070994 non-null  float64\n",
      " 11  r3_zip5      1070994 non-null  float64\n",
      " 12  r4_zip5      1070994 non-null  float64\n",
      " 13  r5_zip5      1070994 non-null  float64\n",
      " 14  r6_zip5      1070994 non-null  float64\n",
      " 15  r7_zip5      1070994 non-null  float64\n",
      " 16  r8_zip5      1070994 non-null  float64\n",
      " 17  r9_zip5      1070994 non-null  float64\n",
      " 18  r1_zip3      1070994 non-null  float64\n",
      " 19  r2_zip3      1070994 non-null  float64\n",
      " 20  r3_zip3      1070994 non-null  float64\n",
      " 21  r4_zip3      1070994 non-null  float64\n",
      " 22  r5_zip3      1070994 non-null  float64\n",
      " 23  r6_zip3      1070994 non-null  float64\n",
      " 24  r7_zip3      1070994 non-null  float64\n",
      " 25  r8_zip3      1070994 non-null  float64\n",
      " 26  r9_zip3      1070994 non-null  float64\n",
      " 27  r1_taxclass  1070994 non-null  float64\n",
      " 28  r2_taxclass  1070994 non-null  float64\n",
      " 29  r3_taxclass  1070994 non-null  float64\n",
      " 30  r4_taxclass  1070994 non-null  float64\n",
      " 31  r5_taxclass  1070994 non-null  float64\n",
      " 32  r6_taxclass  1070994 non-null  float64\n",
      " 33  r7_taxclass  1070994 non-null  float64\n",
      " 34  r8_taxclass  1070994 non-null  float64\n",
      " 35  r9_taxclass  1070994 non-null  float64\n",
      " 36  r1_boro      1070994 non-null  float64\n",
      " 37  r2_boro      1070994 non-null  float64\n",
      " 38  r3_boro      1070994 non-null  float64\n",
      " 39  r4_boro      1070994 non-null  float64\n",
      " 40  r5_boro      1070994 non-null  float64\n",
      " 41  r6_boro      1070994 non-null  float64\n",
      " 42  r7_boro      1070994 non-null  float64\n",
      " 43  r8_boro      1070994 non-null  float64\n",
      " 44  r9_boro      1070994 non-null  float64\n",
      "dtypes: float64(45)\n",
      "memory usage: 367.7 MB\n"
     ]
    }
   ],
   "source": [
    "data.info()"
   ]
  },
  {
   "cell_type": "code",
   "execution_count": 143,
   "id": "still-windsor",
   "metadata": {
    "ExecuteTime": {
     "end_time": "2021-02-17T07:11:17.968862Z",
     "start_time": "2021-02-17T07:11:14.545521Z"
    }
   },
   "outputs": [],
   "source": [
    "# z scaling for the whole dataset\n",
    "data = (data - data.mean()) / data.std()"
   ]
  },
  {
   "cell_type": "code",
   "execution_count": 164,
   "id": "handled-castle",
   "metadata": {
    "ExecuteTime": {
     "end_time": "2021-02-17T13:14:47.178819Z",
     "start_time": "2021-02-17T13:14:46.922087Z"
    }
   },
   "outputs": [
    {
     "data": {
      "text/html": [
       "<div>\n",
       "<style scoped>\n",
       "    .dataframe tbody tr th:only-of-type {\n",
       "        vertical-align: middle;\n",
       "    }\n",
       "\n",
       "    .dataframe tbody tr th {\n",
       "        vertical-align: top;\n",
       "    }\n",
       "\n",
       "    .dataframe thead th {\n",
       "        text-align: right;\n",
       "    }\n",
       "</style>\n",
       "<table border=\"1\" class=\"dataframe\">\n",
       "  <thead>\n",
       "    <tr style=\"text-align: right;\">\n",
       "      <th></th>\n",
       "      <th>r1</th>\n",
       "      <th>r2</th>\n",
       "      <th>r3</th>\n",
       "      <th>r4</th>\n",
       "      <th>r5</th>\n",
       "      <th>r6</th>\n",
       "      <th>r7</th>\n",
       "      <th>r8</th>\n",
       "      <th>r9</th>\n",
       "      <th>r1_zip5</th>\n",
       "      <th>...</th>\n",
       "      <th>r9_taxclass</th>\n",
       "      <th>r1_boro</th>\n",
       "      <th>r2_boro</th>\n",
       "      <th>r3_boro</th>\n",
       "      <th>r4_boro</th>\n",
       "      <th>r5_boro</th>\n",
       "      <th>r6_boro</th>\n",
       "      <th>r7_boro</th>\n",
       "      <th>r8_boro</th>\n",
       "      <th>r9_boro</th>\n",
       "    </tr>\n",
       "  </thead>\n",
       "  <tbody>\n",
       "    <tr>\n",
       "      <th>0</th>\n",
       "      <td>-0.255761</td>\n",
       "      <td>1.391255</td>\n",
       "      <td>0.298531</td>\n",
       "      <td>-0.016532</td>\n",
       "      <td>0.733160</td>\n",
       "      <td>0.191155</td>\n",
       "      <td>-0.032729</td>\n",
       "      <td>1.279582</td>\n",
       "      <td>0.410407</td>\n",
       "      <td>-0.316187</td>\n",
       "      <td>...</td>\n",
       "      <td>0.239674</td>\n",
       "      <td>-0.291407</td>\n",
       "      <td>1.378940</td>\n",
       "      <td>0.423640</td>\n",
       "      <td>-0.035493</td>\n",
       "      <td>0.353823</td>\n",
       "      <td>0.146368</td>\n",
       "      <td>-0.069324</td>\n",
       "      <td>0.464675</td>\n",
       "      <td>0.328655</td>\n",
       "    </tr>\n",
       "    <tr>\n",
       "      <th>1</th>\n",
       "      <td>80.032072</td>\n",
       "      <td>14.476590</td>\n",
       "      <td>4.049227</td>\n",
       "      <td>22.085202</td>\n",
       "      <td>2.552784</td>\n",
       "      <td>0.699158</td>\n",
       "      <td>89.652154</td>\n",
       "      <td>11.941798</td>\n",
       "      <td>3.980206</td>\n",
       "      <td>45.870785</td>\n",
       "      <td>...</td>\n",
       "      <td>3.246255</td>\n",
       "      <td>49.308730</td>\n",
       "      <td>14.368584</td>\n",
       "      <td>4.673052</td>\n",
       "      <td>5.392397</td>\n",
       "      <td>1.275732</td>\n",
       "      <td>0.561827</td>\n",
       "      <td>22.564714</td>\n",
       "      <td>4.551318</td>\n",
       "      <td>3.292858</td>\n",
       "    </tr>\n",
       "    <tr>\n",
       "      <th>2</th>\n",
       "      <td>0.075242</td>\n",
       "      <td>-0.120576</td>\n",
       "      <td>-0.108520</td>\n",
       "      <td>0.483982</td>\n",
       "      <td>0.070334</td>\n",
       "      <td>0.028791</td>\n",
       "      <td>0.337016</td>\n",
       "      <td>0.047709</td>\n",
       "      <td>0.022988</td>\n",
       "      <td>-0.125772</td>\n",
       "      <td>...</td>\n",
       "      <td>-0.086621</td>\n",
       "      <td>-0.086920</td>\n",
       "      <td>-0.121835</td>\n",
       "      <td>-0.037535</td>\n",
       "      <td>0.087427</td>\n",
       "      <td>0.018003</td>\n",
       "      <td>0.013581</td>\n",
       "      <td>0.023990</td>\n",
       "      <td>-0.007480</td>\n",
       "      <td>0.006960</td>\n",
       "    </tr>\n",
       "    <tr>\n",
       "      <th>3</th>\n",
       "      <td>-0.182636</td>\n",
       "      <td>0.126486</td>\n",
       "      <td>0.113608</td>\n",
       "      <td>0.133577</td>\n",
       "      <td>0.303320</td>\n",
       "      <td>0.231186</td>\n",
       "      <td>0.048955</td>\n",
       "      <td>0.249021</td>\n",
       "      <td>0.234403</td>\n",
       "      <td>-0.274121</td>\n",
       "      <td>...</td>\n",
       "      <td>0.091438</td>\n",
       "      <td>-0.246232</td>\n",
       "      <td>0.123420</td>\n",
       "      <td>0.214128</td>\n",
       "      <td>0.001372</td>\n",
       "      <td>0.136044</td>\n",
       "      <td>0.179106</td>\n",
       "      <td>-0.048709</td>\n",
       "      <td>0.069679</td>\n",
       "      <td>0.182510</td>\n",
       "    </tr>\n",
       "    <tr>\n",
       "      <th>4</th>\n",
       "      <td>0.685581</td>\n",
       "      <td>22.822842</td>\n",
       "      <td>35.829707</td>\n",
       "      <td>1.602135</td>\n",
       "      <td>24.336380</td>\n",
       "      <td>37.030788</td>\n",
       "      <td>1.018790</td>\n",
       "      <td>18.742506</td>\n",
       "      <td>34.227910</td>\n",
       "      <td>0.225337</td>\n",
       "      <td>...</td>\n",
       "      <td>28.721692</td>\n",
       "      <td>0.290135</td>\n",
       "      <td>22.653802</td>\n",
       "      <td>40.679265</td>\n",
       "      <td>0.362030</td>\n",
       "      <td>12.312361</td>\n",
       "      <td>30.274899</td>\n",
       "      <td>0.196051</td>\n",
       "      <td>7.157913</td>\n",
       "      <td>28.409205</td>\n",
       "    </tr>\n",
       "  </tbody>\n",
       "</table>\n",
       "<p>5 rows × 45 columns</p>\n",
       "</div>"
      ],
      "text/plain": [
       "          r1         r2         r3         r4         r5         r6  \\\n",
       "0  -0.255761   1.391255   0.298531  -0.016532   0.733160   0.191155   \n",
       "1  80.032072  14.476590   4.049227  22.085202   2.552784   0.699158   \n",
       "2   0.075242  -0.120576  -0.108520   0.483982   0.070334   0.028791   \n",
       "3  -0.182636   0.126486   0.113608   0.133577   0.303320   0.231186   \n",
       "4   0.685581  22.822842  35.829707   1.602135  24.336380  37.030788   \n",
       "\n",
       "          r7         r8         r9    r1_zip5  ...  r9_taxclass    r1_boro  \\\n",
       "0  -0.032729   1.279582   0.410407  -0.316187  ...     0.239674  -0.291407   \n",
       "1  89.652154  11.941798   3.980206  45.870785  ...     3.246255  49.308730   \n",
       "2   0.337016   0.047709   0.022988  -0.125772  ...    -0.086621  -0.086920   \n",
       "3   0.048955   0.249021   0.234403  -0.274121  ...     0.091438  -0.246232   \n",
       "4   1.018790  18.742506  34.227910   0.225337  ...    28.721692   0.290135   \n",
       "\n",
       "     r2_boro    r3_boro   r4_boro    r5_boro    r6_boro    r7_boro   r8_boro  \\\n",
       "0   1.378940   0.423640 -0.035493   0.353823   0.146368  -0.069324  0.464675   \n",
       "1  14.368584   4.673052  5.392397   1.275732   0.561827  22.564714  4.551318   \n",
       "2  -0.121835  -0.037535  0.087427   0.018003   0.013581   0.023990 -0.007480   \n",
       "3   0.123420   0.214128  0.001372   0.136044   0.179106  -0.048709  0.069679   \n",
       "4  22.653802  40.679265  0.362030  12.312361  30.274899   0.196051  7.157913   \n",
       "\n",
       "     r9_boro  \n",
       "0   0.328655  \n",
       "1   3.292858  \n",
       "2   0.006960  \n",
       "3   0.182510  \n",
       "4  28.409205  \n",
       "\n",
       "[5 rows x 45 columns]"
      ]
     },
     "execution_count": 164,
     "metadata": {},
     "output_type": "execute_result"
    }
   ],
   "source": [
    "data.head()"
   ]
  },
  {
   "cell_type": "markdown",
   "id": "orange-accident",
   "metadata": {},
   "source": [
    "## PCA"
   ]
  },
  {
   "cell_type": "code",
   "execution_count": 165,
   "id": "built-diploma",
   "metadata": {
    "ExecuteTime": {
     "end_time": "2021-02-17T13:15:05.648550Z",
     "start_time": "2021-02-17T13:14:57.861180Z"
    }
   },
   "outputs": [
    {
     "data": {
      "text/plain": [
       "(0.0, 1.0)"
      ]
     },
     "execution_count": 165,
     "metadata": {},
     "output_type": "execute_result"
    },
    {
     "data": {
      "image/png": "[encoded data removed]",
      "text/plain": [
       "<Figure size 432x288 with 1 Axes>"
      ]
     },
     "metadata": {
      "needs_background": "light"
     },
     "output_type": "display_data"
    }
   ],
   "source": [
    "# compute most of the PC components and look at the scree plot\n",
    "pca = PCA(n_components = .99, svd_solver = 'full')\n",
    "pca.fit(data)\n",
    "plt.plot(np.cumsum(pca.explained_variance_ratio_))\n",
    "plt.xlabel('Number of components')\n",
    "plt.ylabel('Cumulative explained variance')\n",
    "plt.yticks(np.arange(0.05, 1.1, step=.1))\n",
    "plt.xticks(np.arange(0, 20, step=2))\n",
    "plt.axvline(x=6, linestyle='--')\n",
    "plt.ylim(0,1)"
   ]
  },
  {
   "cell_type": "code",
   "execution_count": 166,
   "id": "declared-hollywood",
   "metadata": {
    "ExecuteTime": {
     "end_time": "2021-02-17T13:15:30.785340Z",
     "start_time": "2021-02-17T13:15:24.924033Z"
    }
   },
   "outputs": [
    {
     "data": {
      "text/plain": [
       "(1070994, 7)"
      ]
     },
     "execution_count": 166,
     "metadata": {},
     "output_type": "execute_result"
    }
   ],
   "source": [
    "# decide to just keep the top 6 PCs based on the plots\n",
    "pca = PCA(n_components = 7)\n",
    "princ_comps = pca.fit_transform(data)\n",
    "data_pca = pd.DataFrame(princ_comps, columns = ['PC' + str(i) for i in range(1, pca.n_components_+1)])\n",
    "data_pca.shape"
   ]
  },
  {
   "cell_type": "code",
   "execution_count": 167,
   "id": "smaller-bidding",
   "metadata": {
    "ExecuteTime": {
     "end_time": "2021-02-17T13:15:34.857504Z",
     "start_time": "2021-02-17T13:15:33.732616Z"
    }
   },
   "outputs": [
    {
     "data": {
      "text/html": [
       "<div>\n",
       "<style scoped>\n",
       "    .dataframe tbody tr th:only-of-type {\n",
       "        vertical-align: middle;\n",
       "    }\n",
       "\n",
       "    .dataframe tbody tr th {\n",
       "        vertical-align: top;\n",
       "    }\n",
       "\n",
       "    .dataframe thead th {\n",
       "        text-align: right;\n",
       "    }\n",
       "</style>\n",
       "<table border=\"1\" class=\"dataframe\">\n",
       "  <thead>\n",
       "    <tr style=\"text-align: right;\">\n",
       "      <th></th>\n",
       "      <th>PC1</th>\n",
       "      <th>PC2</th>\n",
       "      <th>PC3</th>\n",
       "      <th>PC4</th>\n",
       "      <th>PC5</th>\n",
       "      <th>PC6</th>\n",
       "      <th>PC7</th>\n",
       "    </tr>\n",
       "  </thead>\n",
       "  <tbody>\n",
       "    <tr>\n",
       "      <th>count</th>\n",
       "      <td>1.070994e+06</td>\n",
       "      <td>1.070994e+06</td>\n",
       "      <td>1.070994e+06</td>\n",
       "      <td>1.070994e+06</td>\n",
       "      <td>1.070994e+06</td>\n",
       "      <td>1.070994e+06</td>\n",
       "      <td>1.070994e+06</td>\n",
       "    </tr>\n",
       "    <tr>\n",
       "      <th>mean</th>\n",
       "      <td>-1.718846e-16</td>\n",
       "      <td>-5.445269e-16</td>\n",
       "      <td>-1.686205e-16</td>\n",
       "      <td>-1.135972e-15</td>\n",
       "      <td>-2.066915e-15</td>\n",
       "      <td>7.482568e-16</td>\n",
       "      <td>-1.172276e-15</td>\n",
       "    </tr>\n",
       "    <tr>\n",
       "      <th>std</th>\n",
       "      <td>1.000000e+00</td>\n",
       "      <td>1.000000e+00</td>\n",
       "      <td>1.000000e+00</td>\n",
       "      <td>1.000000e+00</td>\n",
       "      <td>1.000000e+00</td>\n",
       "      <td>1.000000e+00</td>\n",
       "      <td>1.000000e+00</td>\n",
       "    </tr>\n",
       "    <tr>\n",
       "      <th>min</th>\n",
       "      <td>-1.473123e-01</td>\n",
       "      <td>-3.121770e+02</td>\n",
       "      <td>-4.693497e+02</td>\n",
       "      <td>-1.839580e+02</td>\n",
       "      <td>-3.911585e+02</td>\n",
       "      <td>-2.618062e+02</td>\n",
       "      <td>-2.129455e+02</td>\n",
       "    </tr>\n",
       "    <tr>\n",
       "      <th>25%</th>\n",
       "      <td>-6.862403e-02</td>\n",
       "      <td>-9.947862e-02</td>\n",
       "      <td>-6.131602e-02</td>\n",
       "      <td>-1.448078e-01</td>\n",
       "      <td>-1.114987e-01</td>\n",
       "      <td>-7.018084e-02</td>\n",
       "      <td>-1.120018e-01</td>\n",
       "    </tr>\n",
       "    <tr>\n",
       "      <th>50%</th>\n",
       "      <td>-1.944495e-02</td>\n",
       "      <td>-4.105365e-02</td>\n",
       "      <td>1.099320e-02</td>\n",
       "      <td>-2.396821e-02</td>\n",
       "      <td>-5.630885e-02</td>\n",
       "      <td>7.532041e-04</td>\n",
       "      <td>4.429785e-03</td>\n",
       "    </tr>\n",
       "    <tr>\n",
       "      <th>75%</th>\n",
       "      <td>1.192503e-02</td>\n",
       "      <td>2.033200e-02</td>\n",
       "      <td>1.500593e-01</td>\n",
       "      <td>5.505629e-02</td>\n",
       "      <td>3.222931e-02</td>\n",
       "      <td>1.235221e-01</td>\n",
       "      <td>8.383810e-02</td>\n",
       "    </tr>\n",
       "    <tr>\n",
       "      <th>max</th>\n",
       "      <td>5.229280e+02</td>\n",
       "      <td>6.036698e+02</td>\n",
       "      <td>6.141779e+02</td>\n",
       "      <td>3.898520e+02</td>\n",
       "      <td>4.478940e+02</td>\n",
       "      <td>4.230684e+02</td>\n",
       "      <td>3.327273e+02</td>\n",
       "    </tr>\n",
       "  </tbody>\n",
       "</table>\n",
       "</div>"
      ],
      "text/plain": [
       "                PC1           PC2           PC3           PC4           PC5  \\\n",
       "count  1.070994e+06  1.070994e+06  1.070994e+06  1.070994e+06  1.070994e+06   \n",
       "mean  -1.718846e-16 -5.445269e-16 -1.686205e-16 -1.135972e-15 -2.066915e-15   \n",
       "std    1.000000e+00  1.000000e+00  1.000000e+00  1.000000e+00  1.000000e+00   \n",
       "min   -1.473123e-01 -3.121770e+02 -4.693497e+02 -1.839580e+02 -3.911585e+02   \n",
       "25%   -6.862403e-02 -9.947862e-02 -6.131602e-02 -1.448078e-01 -1.114987e-01   \n",
       "50%   -1.944495e-02 -4.105365e-02  1.099320e-02 -2.396821e-02 -5.630885e-02   \n",
       "75%    1.192503e-02  2.033200e-02  1.500593e-01  5.505629e-02  3.222931e-02   \n",
       "max    5.229280e+02  6.036698e+02  6.141779e+02  3.898520e+02  4.478940e+02   \n",
       "\n",
       "                PC6           PC7  \n",
       "count  1.070994e+06  1.070994e+06  \n",
       "mean   7.482568e-16 -1.172276e-15  \n",
       "std    1.000000e+00  1.000000e+00  \n",
       "min   -2.618062e+02 -2.129455e+02  \n",
       "25%   -7.018084e-02 -1.120018e-01  \n",
       "50%    7.532041e-04  4.429785e-03  \n",
       "75%    1.235221e-01  8.383810e-02  \n",
       "max    4.230684e+02  3.327273e+02  "
      ]
     },
     "execution_count": 167,
     "metadata": {},
     "output_type": "execute_result"
    }
   ],
   "source": [
    "# z scaling the PCs\n",
    "pca_mean = data_pca.mean()\n",
    "pca_sd = data_pca.std()\n",
    "data_pca = (data_pca - pca_mean) / pca_sd\n",
    "data_pca.describe()"
   ]
  },
  {
   "cell_type": "markdown",
   "id": "abstract-liverpool",
   "metadata": {},
   "source": [
    "## model1: z score outliers"
   ]
  },
  {
   "cell_type": "code",
   "execution_count": 168,
   "id": "abroad-bargain",
   "metadata": {
    "ExecuteTime": {
     "end_time": "2021-02-17T13:15:42.280493Z",
     "start_time": "2021-02-17T13:15:41.991652Z"
    }
   },
   "outputs": [],
   "source": [
    "p=3\n",
    "oop=1/p\n",
    "score1 = (((data_pca).abs()**p).sum(axis=1))**oop"
   ]
  },
  {
   "cell_type": "code",
   "execution_count": 169,
   "id": "central-whale",
   "metadata": {
    "ExecuteTime": {
     "end_time": "2021-02-17T13:15:45.243101Z",
     "start_time": "2021-02-17T13:15:45.234760Z"
    }
   },
   "outputs": [
    {
     "data": {
      "text/plain": [
       "0           1.611644\n",
       "1          63.172772\n",
       "2           0.190267\n",
       "3           0.277603\n",
       "4          34.572682\n",
       "             ...    \n",
       "1070989     0.223371\n",
       "1070990     0.310079\n",
       "1070991     0.294222\n",
       "1070992     0.284770\n",
       "1070993     0.156899\n",
       "Length: 1070994, dtype: float64"
      ]
     },
     "execution_count": 169,
     "metadata": {},
     "output_type": "execute_result"
    }
   ],
   "source": [
    "score1"
   ]
  },
  {
   "cell_type": "markdown",
   "id": "chief-affiliation",
   "metadata": {},
   "source": [
    "## model2: autoencoder error"
   ]
  },
  {
   "cell_type": "code",
   "execution_count": 172,
   "id": "bronze-hearts",
   "metadata": {
    "ExecuteTime": {
     "end_time": "2021-02-17T13:17:37.330781Z",
     "start_time": "2021-02-17T13:17:37.301215Z"
    }
   },
   "outputs": [],
   "source": [
    "# placeholder for input\n",
    "data_in = Input(shape=(7,))\n",
    "# dimension of the encoded data\n",
    "encoded_dim = 3\n",
    "# encoded representation of the data\n",
    "encoded = Dense(encoded_dim, activation='tanh')(data_in)\n",
    "# reconstruction of the input\n",
    "decoded = Dense(7,activation='tanh')(encoded)\n",
    "# this model maps the input data to the reconstructed data\n",
    "autoencoder = Model(data_in, decoded)"
   ]
  },
  {
   "cell_type": "code",
   "execution_count": 173,
   "id": "excellent-letter",
   "metadata": {
    "ExecuteTime": {
     "end_time": "2021-02-17T13:21:21.697879Z",
     "start_time": "2021-02-17T13:17:41.186179Z"
    }
   },
   "outputs": [
    {
     "name": "stdout",
     "output_type": "stream",
     "text": [
      "Epoch 1/5\n",
      "33469/33469 [==============================] - 37s 1ms/step - loss: 0.9953 - val_loss: 0.9267\n",
      "Epoch 2/5\n",
      "33469/33469 [==============================] - 36s 1ms/step - loss: 1.2097 - val_loss: 0.9255\n",
      "Epoch 3/5\n",
      "33469/33469 [==============================] - 38s 1ms/step - loss: 0.7618 - val_loss: 0.9255\n",
      "Epoch 4/5\n",
      "33469/33469 [==============================] - 59s 2ms/step - loss: 0.8897 - val_loss: 0.9250\n",
      "Epoch 5/5\n",
      "33469/33469 [==============================] - 37s 1ms/step - loss: 1.0416 - val_loss: 0.9253\n"
     ]
    }
   ],
   "source": [
    "# compile the final model\n",
    "autoencoder.compile(optimizer='adam', loss='mean_squared_error')\n",
    "autoencoder.fit(data_pca,data_pca, epochs=5, shuffle=True, validation_data=(data_pca,data_pca))\n",
    "pca_out = autoencoder.predict(data_pca)"
   ]
  },
  {
   "cell_type": "code",
   "execution_count": 174,
   "id": "strange-example",
   "metadata": {
    "ExecuteTime": {
     "end_time": "2021-02-17T13:21:27.646451Z",
     "start_time": "2021-02-17T13:21:27.305957Z"
    }
   },
   "outputs": [],
   "source": [
    "# find the error \n",
    "error = pca_out-data_pca\n",
    "p=4\n",
    "oop=1/p\n",
    "score2 = ((error.abs()**p).sum(axis=1))**oop"
   ]
  },
  {
   "cell_type": "markdown",
   "id": "incorrect-flight",
   "metadata": {},
   "source": [
    "## Create the two scores"
   ]
  },
  {
   "cell_type": "code",
   "execution_count": 175,
   "id": "selected-warren",
   "metadata": {
    "ExecuteTime": {
     "end_time": "2021-02-17T13:23:00.814247Z",
     "start_time": "2021-02-17T13:23:00.143840Z"
    }
   },
   "outputs": [
    {
     "data": {
      "text/html": [
       "<div>\n",
       "<style scoped>\n",
       "    .dataframe tbody tr th:only-of-type {\n",
       "        vertical-align: middle;\n",
       "    }\n",
       "\n",
       "    .dataframe tbody tr th {\n",
       "        vertical-align: top;\n",
       "    }\n",
       "\n",
       "    .dataframe thead th {\n",
       "        text-align: right;\n",
       "    }\n",
       "</style>\n",
       "<table border=\"1\" class=\"dataframe\">\n",
       "  <thead>\n",
       "    <tr style=\"text-align: right;\">\n",
       "      <th></th>\n",
       "      <th>score1</th>\n",
       "      <th>score2</th>\n",
       "      <th>score1 rank</th>\n",
       "      <th>score2 rank</th>\n",
       "      <th>final</th>\n",
       "    </tr>\n",
       "  </thead>\n",
       "  <tbody>\n",
       "    <tr>\n",
       "      <th>0</th>\n",
       "      <td>1.611644</td>\n",
       "      <td>1.049943</td>\n",
       "      <td>1048284.0</td>\n",
       "      <td>1055652.0</td>\n",
       "      <td>1051968.0</td>\n",
       "    </tr>\n",
       "    <tr>\n",
       "      <th>1</th>\n",
       "      <td>63.172772</td>\n",
       "      <td>54.450287</td>\n",
       "      <td>1070893.0</td>\n",
       "      <td>1070889.0</td>\n",
       "      <td>1070891.0</td>\n",
       "    </tr>\n",
       "    <tr>\n",
       "      <th>2</th>\n",
       "      <td>0.190267</td>\n",
       "      <td>0.137430</td>\n",
       "      <td>485581.0</td>\n",
       "      <td>908248.0</td>\n",
       "      <td>696914.5</td>\n",
       "    </tr>\n",
       "    <tr>\n",
       "      <th>3</th>\n",
       "      <td>0.277603</td>\n",
       "      <td>0.194374</td>\n",
       "      <td>657945.0</td>\n",
       "      <td>978910.0</td>\n",
       "      <td>818427.5</td>\n",
       "    </tr>\n",
       "    <tr>\n",
       "      <th>4</th>\n",
       "      <td>34.572682</td>\n",
       "      <td>30.591961</td>\n",
       "      <td>1070763.0</td>\n",
       "      <td>1070763.0</td>\n",
       "      <td>1070763.0</td>\n",
       "    </tr>\n",
       "  </tbody>\n",
       "</table>\n",
       "</div>"
      ],
      "text/plain": [
       "      score1     score2  score1 rank  score2 rank      final\n",
       "0   1.611644   1.049943    1048284.0    1055652.0  1051968.0\n",
       "1  63.172772  54.450287    1070893.0    1070889.0  1070891.0\n",
       "2   0.190267   0.137430     485581.0     908248.0   696914.5\n",
       "3   0.277603   0.194374     657945.0     978910.0   818427.5\n",
       "4  34.572682  30.591961    1070763.0    1070763.0  1070763.0"
      ]
     },
     "execution_count": 175,
     "metadata": {},
     "output_type": "execute_result"
    }
   ],
   "source": [
    "scores = pd.DataFrame(score1)\n",
    "scores.columns=['score1']\n",
    "scores['score2'] = score2\n",
    "scores['score1 rank'] = scores['score1'].rank()\n",
    "scores['score2 rank'] = scores['score2'].rank()\n",
    "scores['final'] = (scores['score1 rank'] + scores['score2 rank'])/2\n",
    "scores.head()"
   ]
  },
  {
   "cell_type": "code",
   "execution_count": 176,
   "id": "covered-clone",
   "metadata": {
    "ExecuteTime": {
     "end_time": "2021-02-17T13:23:05.812552Z",
     "start_time": "2021-02-17T13:23:05.353138Z"
    }
   },
   "outputs": [
    {
     "data": {
      "text/html": [
       "<div>\n",
       "<style scoped>\n",
       "    .dataframe tbody tr th:only-of-type {\n",
       "        vertical-align: middle;\n",
       "    }\n",
       "\n",
       "    .dataframe tbody tr th {\n",
       "        vertical-align: top;\n",
       "    }\n",
       "\n",
       "    .dataframe thead th {\n",
       "        text-align: right;\n",
       "    }\n",
       "</style>\n",
       "<table border=\"1\" class=\"dataframe\">\n",
       "  <thead>\n",
       "    <tr style=\"text-align: right;\">\n",
       "      <th></th>\n",
       "      <th>score1</th>\n",
       "      <th>score2</th>\n",
       "      <th>score1 rank</th>\n",
       "      <th>score2 rank</th>\n",
       "      <th>final</th>\n",
       "    </tr>\n",
       "  </thead>\n",
       "  <tbody>\n",
       "    <tr>\n",
       "      <th>917941</th>\n",
       "      <td>770.576684</td>\n",
       "      <td>695.308078</td>\n",
       "      <td>1070994.0</td>\n",
       "      <td>1070994.0</td>\n",
       "      <td>1070994.0</td>\n",
       "    </tr>\n",
       "    <tr>\n",
       "      <th>565391</th>\n",
       "      <td>718.773967</td>\n",
       "      <td>659.356934</td>\n",
       "      <td>1070993.0</td>\n",
       "      <td>1070993.0</td>\n",
       "      <td>1070993.0</td>\n",
       "    </tr>\n",
       "    <tr>\n",
       "      <th>85885</th>\n",
       "      <td>665.220499</td>\n",
       "      <td>606.209909</td>\n",
       "      <td>1070992.0</td>\n",
       "      <td>1070992.0</td>\n",
       "      <td>1070992.0</td>\n",
       "    </tr>\n",
       "    <tr>\n",
       "      <th>684703</th>\n",
       "      <td>474.379722</td>\n",
       "      <td>448.165283</td>\n",
       "      <td>1070991.0</td>\n",
       "      <td>1070991.0</td>\n",
       "      <td>1070991.0</td>\n",
       "    </tr>\n",
       "    <tr>\n",
       "      <th>67128</th>\n",
       "      <td>472.304012</td>\n",
       "      <td>427.793914</td>\n",
       "      <td>1070990.0</td>\n",
       "      <td>1070990.0</td>\n",
       "      <td>1070990.0</td>\n",
       "    </tr>\n",
       "    <tr>\n",
       "      <th>...</th>\n",
       "      <td>...</td>\n",
       "      <td>...</td>\n",
       "      <td>...</td>\n",
       "      <td>...</td>\n",
       "      <td>...</td>\n",
       "    </tr>\n",
       "    <tr>\n",
       "      <th>1036090</th>\n",
       "      <td>0.023978</td>\n",
       "      <td>0.007670</td>\n",
       "      <td>365.5</td>\n",
       "      <td>235.5</td>\n",
       "      <td>300.5</td>\n",
       "    </tr>\n",
       "    <tr>\n",
       "      <th>1036089</th>\n",
       "      <td>0.023978</td>\n",
       "      <td>0.007670</td>\n",
       "      <td>365.5</td>\n",
       "      <td>235.5</td>\n",
       "      <td>300.5</td>\n",
       "    </tr>\n",
       "    <tr>\n",
       "      <th>1036084</th>\n",
       "      <td>0.023978</td>\n",
       "      <td>0.007670</td>\n",
       "      <td>365.5</td>\n",
       "      <td>235.5</td>\n",
       "      <td>300.5</td>\n",
       "    </tr>\n",
       "    <tr>\n",
       "      <th>1036085</th>\n",
       "      <td>0.023978</td>\n",
       "      <td>0.007670</td>\n",
       "      <td>365.5</td>\n",
       "      <td>235.5</td>\n",
       "      <td>300.5</td>\n",
       "    </tr>\n",
       "    <tr>\n",
       "      <th>1031235</th>\n",
       "      <td>0.021047</td>\n",
       "      <td>0.007330</td>\n",
       "      <td>111.0</td>\n",
       "      <td>126.0</td>\n",
       "      <td>118.5</td>\n",
       "    </tr>\n",
       "  </tbody>\n",
       "</table>\n",
       "<p>1070994 rows × 5 columns</p>\n",
       "</div>"
      ],
      "text/plain": [
       "             score1      score2  score1 rank  score2 rank      final\n",
       "917941   770.576684  695.308078    1070994.0    1070994.0  1070994.0\n",
       "565391   718.773967  659.356934    1070993.0    1070993.0  1070993.0\n",
       "85885    665.220499  606.209909    1070992.0    1070992.0  1070992.0\n",
       "684703   474.379722  448.165283    1070991.0    1070991.0  1070991.0\n",
       "67128    472.304012  427.793914    1070990.0    1070990.0  1070990.0\n",
       "...             ...         ...          ...          ...        ...\n",
       "1036090    0.023978    0.007670        365.5        235.5      300.5\n",
       "1036089    0.023978    0.007670        365.5        235.5      300.5\n",
       "1036084    0.023978    0.007670        365.5        235.5      300.5\n",
       "1036085    0.023978    0.007670        365.5        235.5      300.5\n",
       "1031235    0.021047    0.007330        111.0        126.0      118.5\n",
       "\n",
       "[1070994 rows x 5 columns]"
      ]
     },
     "execution_count": 176,
     "metadata": {},
     "output_type": "execute_result"
    }
   ],
   "source": [
    "scores.sort_values(['final'], ascending = False)"
   ]
  },
  {
   "cell_type": "code",
   "execution_count": 177,
   "id": "continuing-request",
   "metadata": {
    "ExecuteTime": {
     "end_time": "2021-02-17T13:23:11.788417Z",
     "start_time": "2021-02-17T13:23:11.507163Z"
    }
   },
   "outputs": [
    {
     "data": {
      "text/plain": [
       "Int64Index([ 917941,  565391,   85885,  684703,   67128,  915468,  690832,\n",
       "              44247, 1059882,  116646,   39769,     418,  565397,  556608,\n",
       "             501142,   33750,  738017,  106680, 1065869,  151043,  252833,\n",
       "             957063,  918203,   48220,  139725,  964933,  927226,  918857,\n",
       "             104410,  932860,   19241,  771149,  915469,  752487,  684562,\n",
       "             985596,   97083,  610681,  330290,  691878,  964947,  245572,\n",
       "              60468,  934792,  109066,  556910,  720599,   56135,  649674,\n",
       "             665157,  973911,  773561,  153069,  764311,  464854,  216947,\n",
       "             923882,  918304,  248664,   47983,  621688,  340899,   85883,\n",
       "             177645,  991516,  209713,  209711,  131602,  918204,  817348,\n",
       "              86945,  994818,  994812,  994814,  994816,  243058,  451671,\n",
       "             638992,  917059,  174538,  994820,   26242,  992070,   12075,\n",
       "              56133,  934749,  773734,  334956,  918919,  398277,  991782,\n",
       "             330291,   79816,  116645,   23368,  259234,    7053,  155892,\n",
       "              88388,  398287],\n",
       "           dtype='int64')"
      ]
     },
     "execution_count": 177,
     "metadata": {},
     "output_type": "execute_result"
    }
   ],
   "source": [
    "# this is the natural index \n",
    "top_records = scores.sort_values(['final'], ascending = False).head(100).index\n",
    "top_records"
   ]
  },
  {
   "cell_type": "code",
   "execution_count": 49,
   "id": "statistical-intellectual",
   "metadata": {
    "ExecuteTime": {
     "end_time": "2021-02-10T10:50:04.460190Z",
     "start_time": "2021-02-10T10:50:02.630880Z"
    }
   },
   "outputs": [
    {
     "data": {
      "text/plain": [
       "(0.1, 2142747.525661616)"
      ]
     },
     "execution_count": 49,
     "metadata": {},
     "output_type": "execute_result"
    },
    {
     "data": {
      "image/png": "[encoded data removed]",
      "text/plain": [
       "<Figure size 432x288 with 1 Axes>"
      ]
     },
     "metadata": {
      "needs_background": "light"
     },
     "output_type": "display_data"
    }
   ],
   "source": [
    "plt.hist(score1, bins=100, range=(0,1000))\n",
    "plt.yscale('log')\n",
    "plt.ylim(ymin=0.1)"
   ]
  },
  {
   "cell_type": "code",
   "execution_count": 50,
   "id": "special-auditor",
   "metadata": {
    "ExecuteTime": {
     "end_time": "2021-02-10T10:50:27.795294Z",
     "start_time": "2021-02-10T10:50:26.424132Z"
    }
   },
   "outputs": [
    {
     "data": {
      "text/plain": [
       "(0.1, 2142985.069460987)"
      ]
     },
     "execution_count": 50,
     "metadata": {},
     "output_type": "execute_result"
    },
    {
     "data": {
      "image/png": "[encoded data removed]",
      "text/plain": [
       "<Figure size 432x288 with 1 Axes>"
      ]
     },
     "metadata": {
      "needs_background": "light"
     },
     "output_type": "display_data"
    }
   ],
   "source": [
    "plt.hist(score2, bins=100, range=(0,1000))\n",
    "plt.yscale('log')\n",
    "plt.ylim(ymin=0.1)"
   ]
  },
  {
   "cell_type": "code",
   "execution_count": 53,
   "id": "acute-scotland",
   "metadata": {
    "ExecuteTime": {
     "end_time": "2021-02-10T10:51:16.418560Z",
     "start_time": "2021-02-10T10:51:12.168159Z"
    }
   },
   "outputs": [
    {
     "name": "stderr",
     "output_type": "stream",
     "text": [
      "/Library/Frameworks/Python.framework/Versions/3.8/lib/python3.8/site-packages/seaborn/distributions.py:2557: FutureWarning: `distplot` is a deprecated function and will be removed in a future version. Please adapt your code to use either `displot` (a figure-level function with similar flexibility) or `histplot` (an axes-level function for histograms).\n",
      "  warnings.warn(msg, FutureWarning)\n"
     ]
    },
    {
     "data": {
      "text/plain": [
       "<AxesSubplot:xlabel='final', ylabel='Density'>"
      ]
     },
     "execution_count": 53,
     "metadata": {},
     "output_type": "execute_result"
    },
    {
     "data": {
      "image/png": "[encoded data removed]",
      "text/plain": [
       "<Figure size 432x288 with 1 Axes>"
      ]
     },
     "metadata": {
      "needs_background": "light"
     },
     "output_type": "display_data"
    }
   ],
   "source": [
    "sns.distplot(scores['final'])"
   ]
  },
  {
   "cell_type": "markdown",
   "id": "raising-robin",
   "metadata": {},
   "source": [
    "## Output the merged file"
   ]
  },
  {
   "cell_type": "code",
   "execution_count": 178,
   "id": "mechanical-transmission",
   "metadata": {
    "ExecuteTime": {
     "end_time": "2021-02-17T13:23:50.448333Z",
     "start_time": "2021-02-17T13:23:43.955180Z"
    }
   },
   "outputs": [],
   "source": [
    "df = pd.read_csv(\"NY property data.csv\")\n",
    "df1=df[df.index.isin(top_records)]\n",
    "df2=scores[scores.index.isin(top_records)]"
   ]
  },
  {
   "cell_type": "code",
   "execution_count": 179,
   "id": "abroad-plane",
   "metadata": {
    "ExecuteTime": {
     "end_time": "2021-02-17T13:23:55.264605Z",
     "start_time": "2021-02-17T13:23:55.212009Z"
    }
   },
   "outputs": [],
   "source": [
    "out = df1.merge(df2[['score1 rank','score2 rank','final']], how='left', left_index=True, right_index=True)"
   ]
  },
  {
   "cell_type": "code",
   "execution_count": 194,
   "id": "dynamic-washington",
   "metadata": {
    "ExecuteTime": {
     "end_time": "2021-02-18T00:48:52.152584Z",
     "start_time": "2021-02-18T00:48:51.817331Z"
    }
   },
   "outputs": [
    {
     "data": {
      "text/html": [
       "<div>\n",
       "<style scoped>\n",
       "    .dataframe tbody tr th:only-of-type {\n",
       "        vertical-align: middle;\n",
       "    }\n",
       "\n",
       "    .dataframe tbody tr th {\n",
       "        vertical-align: top;\n",
       "    }\n",
       "\n",
       "    .dataframe thead th {\n",
       "        text-align: right;\n",
       "    }\n",
       "</style>\n",
       "<table border=\"1\" class=\"dataframe\">\n",
       "  <thead>\n",
       "    <tr style=\"text-align: right;\">\n",
       "      <th></th>\n",
       "      <th>r1</th>\n",
       "      <th>r2</th>\n",
       "      <th>r3</th>\n",
       "      <th>r4</th>\n",
       "      <th>r5</th>\n",
       "      <th>r6</th>\n",
       "      <th>r7</th>\n",
       "      <th>r8</th>\n",
       "      <th>r9</th>\n",
       "      <th>r1_zip5</th>\n",
       "      <th>...</th>\n",
       "      <th>r9_taxclass</th>\n",
       "      <th>r1_boro</th>\n",
       "      <th>r2_boro</th>\n",
       "      <th>r3_boro</th>\n",
       "      <th>r4_boro</th>\n",
       "      <th>r5_boro</th>\n",
       "      <th>r6_boro</th>\n",
       "      <th>r7_boro</th>\n",
       "      <th>r8_boro</th>\n",
       "      <th>r9_boro</th>\n",
       "    </tr>\n",
       "  </thead>\n",
       "  <tbody>\n",
       "    <tr>\n",
       "      <th>0</th>\n",
       "      <td>-0.255761</td>\n",
       "      <td>1.391255</td>\n",
       "      <td>0.298531</td>\n",
       "      <td>-0.016532</td>\n",
       "      <td>0.733160</td>\n",
       "      <td>0.191155</td>\n",
       "      <td>-0.032729</td>\n",
       "      <td>1.279582</td>\n",
       "      <td>0.410407</td>\n",
       "      <td>-0.316187</td>\n",
       "      <td>...</td>\n",
       "      <td>0.239674</td>\n",
       "      <td>-0.291407</td>\n",
       "      <td>1.378940</td>\n",
       "      <td>0.423640</td>\n",
       "      <td>-0.035493</td>\n",
       "      <td>0.353823</td>\n",
       "      <td>0.146368</td>\n",
       "      <td>-0.069324</td>\n",
       "      <td>0.464675</td>\n",
       "      <td>0.328655</td>\n",
       "    </tr>\n",
       "    <tr>\n",
       "      <th>1</th>\n",
       "      <td>80.032072</td>\n",
       "      <td>14.476590</td>\n",
       "      <td>4.049227</td>\n",
       "      <td>22.085202</td>\n",
       "      <td>2.552784</td>\n",
       "      <td>0.699158</td>\n",
       "      <td>89.652154</td>\n",
       "      <td>11.941798</td>\n",
       "      <td>3.980206</td>\n",
       "      <td>45.870785</td>\n",
       "      <td>...</td>\n",
       "      <td>3.246255</td>\n",
       "      <td>49.308730</td>\n",
       "      <td>14.368584</td>\n",
       "      <td>4.673052</td>\n",
       "      <td>5.392397</td>\n",
       "      <td>1.275732</td>\n",
       "      <td>0.561827</td>\n",
       "      <td>22.564714</td>\n",
       "      <td>4.551318</td>\n",
       "      <td>3.292858</td>\n",
       "    </tr>\n",
       "    <tr>\n",
       "      <th>2</th>\n",
       "      <td>0.075242</td>\n",
       "      <td>-0.120576</td>\n",
       "      <td>-0.108520</td>\n",
       "      <td>0.483982</td>\n",
       "      <td>0.070334</td>\n",
       "      <td>0.028791</td>\n",
       "      <td>0.337016</td>\n",
       "      <td>0.047709</td>\n",
       "      <td>0.022988</td>\n",
       "      <td>-0.125772</td>\n",
       "      <td>...</td>\n",
       "      <td>-0.086621</td>\n",
       "      <td>-0.086920</td>\n",
       "      <td>-0.121835</td>\n",
       "      <td>-0.037535</td>\n",
       "      <td>0.087427</td>\n",
       "      <td>0.018003</td>\n",
       "      <td>0.013581</td>\n",
       "      <td>0.023990</td>\n",
       "      <td>-0.007480</td>\n",
       "      <td>0.006960</td>\n",
       "    </tr>\n",
       "    <tr>\n",
       "      <th>3</th>\n",
       "      <td>-0.182636</td>\n",
       "      <td>0.126486</td>\n",
       "      <td>0.113608</td>\n",
       "      <td>0.133577</td>\n",
       "      <td>0.303320</td>\n",
       "      <td>0.231186</td>\n",
       "      <td>0.048955</td>\n",
       "      <td>0.249021</td>\n",
       "      <td>0.234403</td>\n",
       "      <td>-0.274121</td>\n",
       "      <td>...</td>\n",
       "      <td>0.091438</td>\n",
       "      <td>-0.246232</td>\n",
       "      <td>0.123420</td>\n",
       "      <td>0.214128</td>\n",
       "      <td>0.001372</td>\n",
       "      <td>0.136044</td>\n",
       "      <td>0.179106</td>\n",
       "      <td>-0.048709</td>\n",
       "      <td>0.069679</td>\n",
       "      <td>0.182510</td>\n",
       "    </tr>\n",
       "    <tr>\n",
       "      <th>4</th>\n",
       "      <td>0.685581</td>\n",
       "      <td>22.822842</td>\n",
       "      <td>35.829707</td>\n",
       "      <td>1.602135</td>\n",
       "      <td>24.336380</td>\n",
       "      <td>37.030788</td>\n",
       "      <td>1.018790</td>\n",
       "      <td>18.742506</td>\n",
       "      <td>34.227910</td>\n",
       "      <td>0.225337</td>\n",
       "      <td>...</td>\n",
       "      <td>28.721692</td>\n",
       "      <td>0.290135</td>\n",
       "      <td>22.653802</td>\n",
       "      <td>40.679265</td>\n",
       "      <td>0.362030</td>\n",
       "      <td>12.312361</td>\n",
       "      <td>30.274899</td>\n",
       "      <td>0.196051</td>\n",
       "      <td>7.157913</td>\n",
       "      <td>28.409205</td>\n",
       "    </tr>\n",
       "  </tbody>\n",
       "</table>\n",
       "<p>5 rows × 45 columns</p>\n",
       "</div>"
      ],
      "text/plain": [
       "          r1         r2         r3         r4         r5         r6  \\\n",
       "0  -0.255761   1.391255   0.298531  -0.016532   0.733160   0.191155   \n",
       "1  80.032072  14.476590   4.049227  22.085202   2.552784   0.699158   \n",
       "2   0.075242  -0.120576  -0.108520   0.483982   0.070334   0.028791   \n",
       "3  -0.182636   0.126486   0.113608   0.133577   0.303320   0.231186   \n",
       "4   0.685581  22.822842  35.829707   1.602135  24.336380  37.030788   \n",
       "\n",
       "          r7         r8         r9    r1_zip5  ...  r9_taxclass    r1_boro  \\\n",
       "0  -0.032729   1.279582   0.410407  -0.316187  ...     0.239674  -0.291407   \n",
       "1  89.652154  11.941798   3.980206  45.870785  ...     3.246255  49.308730   \n",
       "2   0.337016   0.047709   0.022988  -0.125772  ...    -0.086621  -0.086920   \n",
       "3   0.048955   0.249021   0.234403  -0.274121  ...     0.091438  -0.246232   \n",
       "4   1.018790  18.742506  34.227910   0.225337  ...    28.721692   0.290135   \n",
       "\n",
       "     r2_boro    r3_boro   r4_boro    r5_boro    r6_boro    r7_boro   r8_boro  \\\n",
       "0   1.378940   0.423640 -0.035493   0.353823   0.146368  -0.069324  0.464675   \n",
       "1  14.368584   4.673052  5.392397   1.275732   0.561827  22.564714  4.551318   \n",
       "2  -0.121835  -0.037535  0.087427   0.018003   0.013581   0.023990 -0.007480   \n",
       "3   0.123420   0.214128  0.001372   0.136044   0.179106  -0.048709  0.069679   \n",
       "4  22.653802  40.679265  0.362030  12.312361  30.274899   0.196051  7.157913   \n",
       "\n",
       "     r9_boro  \n",
       "0   0.328655  \n",
       "1   3.292858  \n",
       "2   0.006960  \n",
       "3   0.182510  \n",
       "4  28.409205  \n",
       "\n",
       "[5 rows x 45 columns]"
      ]
     },
     "execution_count": 194,
     "metadata": {},
     "output_type": "execute_result"
    }
   ],
   "source": [
    "data.head()"
   ]
  },
  {
   "cell_type": "code",
   "execution_count": 198,
   "id": "satisfactory-globe",
   "metadata": {
    "ExecuteTime": {
     "end_time": "2021-02-18T07:56:02.757543Z",
     "start_time": "2021-02-18T07:56:02.740586Z"
    }
   },
   "outputs": [
    {
     "data": {
      "text/plain": [
       "Int64Index([917941, 565391, 85885, 684703, 67128, 915468, 690832, 44247,\n",
       "            1059882, 116646],\n",
       "           dtype='int64')"
      ]
     },
     "execution_count": 198,
     "metadata": {},
     "output_type": "execute_result"
    }
   ],
   "source": [
    "top_records[:10]"
   ]
  },
  {
   "cell_type": "code",
   "execution_count": 208,
   "id": "dirty-wyoming",
   "metadata": {
    "ExecuteTime": {
     "end_time": "2021-02-18T14:09:28.232533Z",
     "start_time": "2021-02-18T14:09:28.203603Z"
    }
   },
   "outputs": [
    {
     "data": {
      "text/plain": [
       "0     917942\n",
       "1     565392\n",
       "2      85886\n",
       "3      67129\n",
       "4     684704\n",
       "5     690833\n",
       "6     915469\n",
       "7      44248\n",
       "8     565398\n",
       "9    1059883\n",
       "Name: RECORD, dtype: int64"
      ]
     },
     "execution_count": 208,
     "metadata": {},
     "output_type": "execute_result"
    }
   ],
   "source": [
    "dff=pd.read_csv('Original Top 100 Fraud Score-Zining Han.csv')\n",
    "rec=dff['RECORD'][:10]\n",
    "rec"
   ]
  },
  {
   "cell_type": "code",
   "execution_count": 211,
   "id": "featured-moore",
   "metadata": {
    "ExecuteTime": {
     "end_time": "2021-02-18T14:10:30.185473Z",
     "start_time": "2021-02-18T14:10:29.037048Z"
    }
   },
   "outputs": [
    {
     "data": {
      "text/plain": [
       "(array([ 0.5,  1.5,  2.5,  3.5,  4.5,  5.5,  6.5,  7.5,  8.5,  9.5, 10.5,\n",
       "        11.5, 12.5, 13.5, 14.5, 15.5, 16.5, 17.5, 18.5, 19.5, 20.5, 21.5,\n",
       "        22.5, 23.5, 24.5, 25.5, 26.5, 27.5, 28.5, 29.5, 30.5, 31.5, 32.5,\n",
       "        33.5, 34.5, 35.5, 36.5, 37.5, 38.5, 39.5, 40.5, 41.5, 42.5, 43.5,\n",
       "        44.5]),\n",
       " [Text(0.5, 1, 'r1'),\n",
       "  Text(1.5, 1, 'r2'),\n",
       "  Text(2.5, 1, 'r3'),\n",
       "  Text(3.5, 1, 'r4'),\n",
       "  Text(4.5, 1, 'r5'),\n",
       "  Text(5.5, 1, 'r6'),\n",
       "  Text(6.5, 1, 'r7'),\n",
       "  Text(7.5, 1, 'r8'),\n",
       "  Text(8.5, 1, 'r9'),\n",
       "  Text(9.5, 1, 'r1_zip5'),\n",
       "  Text(10.5, 1, 'r2_zip5'),\n",
       "  Text(11.5, 1, 'r3_zip5'),\n",
       "  Text(12.5, 1, 'r4_zip5'),\n",
       "  Text(13.5, 1, 'r5_zip5'),\n",
       "  Text(14.5, 1, 'r6_zip5'),\n",
       "  Text(15.5, 1, 'r7_zip5'),\n",
       "  Text(16.5, 1, 'r8_zip5'),\n",
       "  Text(17.5, 1, 'r9_zip5'),\n",
       "  Text(18.5, 1, 'r1_zip3'),\n",
       "  Text(19.5, 1, 'r2_zip3'),\n",
       "  Text(20.5, 1, 'r3_zip3'),\n",
       "  Text(21.5, 1, 'r4_zip3'),\n",
       "  Text(22.5, 1, 'r5_zip3'),\n",
       "  Text(23.5, 1, 'r6_zip3'),\n",
       "  Text(24.5, 1, 'r7_zip3'),\n",
       "  Text(25.5, 1, 'r8_zip3'),\n",
       "  Text(26.5, 1, 'r9_zip3'),\n",
       "  Text(27.5, 1, 'r1_taxclass'),\n",
       "  Text(28.5, 1, 'r2_taxclass'),\n",
       "  Text(29.5, 1, 'r3_taxclass'),\n",
       "  Text(30.5, 1, 'r4_taxclass'),\n",
       "  Text(31.5, 1, 'r5_taxclass'),\n",
       "  Text(32.5, 1, 'r6_taxclass'),\n",
       "  Text(33.5, 1, 'r7_taxclass'),\n",
       "  Text(34.5, 1, 'r8_taxclass'),\n",
       "  Text(35.5, 1, 'r9_taxclass'),\n",
       "  Text(36.5, 1, 'r1_boro'),\n",
       "  Text(37.5, 1, 'r2_boro'),\n",
       "  Text(38.5, 1, 'r3_boro'),\n",
       "  Text(39.5, 1, 'r4_boro'),\n",
       "  Text(40.5, 1, 'r5_boro'),\n",
       "  Text(41.5, 1, 'r6_boro'),\n",
       "  Text(42.5, 1, 'r7_boro'),\n",
       "  Text(43.5, 1, 'r8_boro'),\n",
       "  Text(44.5, 1, 'r9_boro')])"
      ]
     },
     "execution_count": 211,
     "metadata": {},
     "output_type": "execute_result"
    },
    {
     "data": {
      "image/png": "[encoded data removed]",
      "text/plain": [
       "<Figure size 1440x720 with 2 Axes>"
      ]
     },
     "metadata": {
      "needs_background": "light"
     },
     "output_type": "display_data"
    }
   ],
   "source": [
    "data_heatmap = data[data.index.isin(top_records[:10])].abs().head(10)\n",
    "plt.rcParams['figure.figsize'] = (20,10)\n",
    "ax = sns.heatmap(data_heatmap, center=0, vmin=0, vmax=50, cmap='Reds')\n",
    "ax.xaxis.tick_top()\n",
    "ax.xaxis.set_label_position('top')\n",
    "plt.xticks(rotation=90)"
   ]
  },
  {
   "cell_type": "code",
   "execution_count": 158,
   "id": "twenty-olive",
   "metadata": {
    "ExecuteTime": {
     "end_time": "2021-02-17T07:18:18.980322Z",
     "start_time": "2021-02-17T07:18:18.940248Z"
    }
   },
   "outputs": [
    {
     "data": {
      "text/html": [
       "<div>\n",
       "<style scoped>\n",
       "    .dataframe tbody tr th:only-of-type {\n",
       "        vertical-align: middle;\n",
       "    }\n",
       "\n",
       "    .dataframe tbody tr th {\n",
       "        vertical-align: top;\n",
       "    }\n",
       "\n",
       "    .dataframe thead th {\n",
       "        text-align: right;\n",
       "    }\n",
       "</style>\n",
       "<table border=\"1\" class=\"dataframe\">\n",
       "  <thead>\n",
       "    <tr style=\"text-align: right;\">\n",
       "      <th></th>\n",
       "      <th>RECORD</th>\n",
       "      <th>BBLE</th>\n",
       "      <th>B</th>\n",
       "      <th>BLOCK</th>\n",
       "      <th>LOT</th>\n",
       "      <th>EASEMENT</th>\n",
       "      <th>OWNER</th>\n",
       "      <th>BLDGCL</th>\n",
       "      <th>TAXCLASS</th>\n",
       "      <th>LTFRONT</th>\n",
       "      <th>...</th>\n",
       "      <th>AVTOT2</th>\n",
       "      <th>EXLAND2</th>\n",
       "      <th>EXTOT2</th>\n",
       "      <th>EXCD2</th>\n",
       "      <th>PERIOD</th>\n",
       "      <th>YEAR</th>\n",
       "      <th>VALTYPE</th>\n",
       "      <th>score1 rank</th>\n",
       "      <th>score2 rank</th>\n",
       "      <th>final</th>\n",
       "    </tr>\n",
       "  </thead>\n",
       "  <tbody>\n",
       "    <tr>\n",
       "      <th>418</th>\n",
       "      <td>419</td>\n",
       "      <td>1000160003</td>\n",
       "      <td>1</td>\n",
       "      <td>16</td>\n",
       "      <td>3</td>\n",
       "      <td>NaN</td>\n",
       "      <td>THE CITY OF NEW YORK</td>\n",
       "      <td>Z9</td>\n",
       "      <td>4</td>\n",
       "      <td>2290</td>\n",
       "      <td>...</td>\n",
       "      <td>107827403.0</td>\n",
       "      <td>106883843.0</td>\n",
       "      <td>107827403.0</td>\n",
       "      <td>NaN</td>\n",
       "      <td>FINAL</td>\n",
       "      <td>2010/11</td>\n",
       "      <td>AC-TR</td>\n",
       "      <td>1070980.0</td>\n",
       "      <td>1070980.0</td>\n",
       "      <td>1070980.0</td>\n",
       "    </tr>\n",
       "    <tr>\n",
       "      <th>7053</th>\n",
       "      <td>7054</td>\n",
       "      <td>1000580001</td>\n",
       "      <td>1</td>\n",
       "      <td>58</td>\n",
       "      <td>1</td>\n",
       "      <td>NaN</td>\n",
       "      <td>THE PORT AUTHORITY OF</td>\n",
       "      <td>O4</td>\n",
       "      <td>4</td>\n",
       "      <td>950</td>\n",
       "      <td>...</td>\n",
       "      <td>289962000.0</td>\n",
       "      <td>219312000.0</td>\n",
       "      <td>289962000.0</td>\n",
       "      <td>NaN</td>\n",
       "      <td>FINAL</td>\n",
       "      <td>2010/11</td>\n",
       "      <td>AC-TR</td>\n",
       "      <td>1070905.0</td>\n",
       "      <td>1070904.0</td>\n",
       "      <td>1070904.5</td>\n",
       "    </tr>\n",
       "    <tr>\n",
       "      <th>12075</th>\n",
       "      <td>12076</td>\n",
       "      <td>1001790001</td>\n",
       "      <td>1</td>\n",
       "      <td>179</td>\n",
       "      <td>1</td>\n",
       "      <td>NaN</td>\n",
       "      <td>15 WORTH STREET PROPE</td>\n",
       "      <td>G6</td>\n",
       "      <td>4</td>\n",
       "      <td>74</td>\n",
       "      <td>...</td>\n",
       "      <td>941400.0</td>\n",
       "      <td>NaN</td>\n",
       "      <td>NaN</td>\n",
       "      <td>NaN</td>\n",
       "      <td>FINAL</td>\n",
       "      <td>2010/11</td>\n",
       "      <td>AC-TR</td>\n",
       "      <td>1070922.0</td>\n",
       "      <td>1070923.0</td>\n",
       "      <td>1070922.5</td>\n",
       "    </tr>\n",
       "    <tr>\n",
       "      <th>19241</th>\n",
       "      <td>19242</td>\n",
       "      <td>1004030001</td>\n",
       "      <td>1</td>\n",
       "      <td>403</td>\n",
       "      <td>1</td>\n",
       "      <td>NaN</td>\n",
       "      <td>PARKS AND RECREATION</td>\n",
       "      <td>Q1</td>\n",
       "      <td>4</td>\n",
       "      <td>687</td>\n",
       "      <td>...</td>\n",
       "      <td>15048000.0</td>\n",
       "      <td>13842000.0</td>\n",
       "      <td>15048000.0</td>\n",
       "      <td>NaN</td>\n",
       "      <td>FINAL</td>\n",
       "      <td>2010/11</td>\n",
       "      <td>AC-TR</td>\n",
       "      <td>1070968.0</td>\n",
       "      <td>1070968.0</td>\n",
       "      <td>1070968.0</td>\n",
       "    </tr>\n",
       "    <tr>\n",
       "      <th>26242</th>\n",
       "      <td>26243</td>\n",
       "      <td>1005490001</td>\n",
       "      <td>1</td>\n",
       "      <td>549</td>\n",
       "      <td>1</td>\n",
       "      <td>NaN</td>\n",
       "      <td>PARKS AND RECREATION</td>\n",
       "      <td>Q1</td>\n",
       "      <td>4</td>\n",
       "      <td>950</td>\n",
       "      <td>...</td>\n",
       "      <td>60606990.0</td>\n",
       "      <td>NaN</td>\n",
       "      <td>NaN</td>\n",
       "      <td>NaN</td>\n",
       "      <td>FINAL</td>\n",
       "      <td>2010/11</td>\n",
       "      <td>AC-TR</td>\n",
       "      <td>1070926.0</td>\n",
       "      <td>1070927.0</td>\n",
       "      <td>1070926.5</td>\n",
       "    </tr>\n",
       "  </tbody>\n",
       "</table>\n",
       "<p>5 rows × 35 columns</p>\n",
       "</div>"
      ],
      "text/plain": [
       "       RECORD        BBLE  B  BLOCK  LOT EASEMENT                  OWNER  \\\n",
       "418       419  1000160003  1     16    3      NaN   THE CITY OF NEW YORK   \n",
       "7053     7054  1000580001  1     58    1      NaN  THE PORT AUTHORITY OF   \n",
       "12075   12076  1001790001  1    179    1      NaN  15 WORTH STREET PROPE   \n",
       "19241   19242  1004030001  1    403    1      NaN   PARKS AND RECREATION   \n",
       "26242   26243  1005490001  1    549    1      NaN   PARKS AND RECREATION   \n",
       "\n",
       "      BLDGCL TAXCLASS  LTFRONT  ...       AVTOT2      EXLAND2       EXTOT2  \\\n",
       "418       Z9        4     2290  ...  107827403.0  106883843.0  107827403.0   \n",
       "7053      O4        4      950  ...  289962000.0  219312000.0  289962000.0   \n",
       "12075     G6        4       74  ...     941400.0          NaN          NaN   \n",
       "19241     Q1        4      687  ...   15048000.0   13842000.0   15048000.0   \n",
       "26242     Q1        4      950  ...   60606990.0          NaN          NaN   \n",
       "\n",
       "       EXCD2  PERIOD     YEAR  VALTYPE  score1 rank  score2 rank      final  \n",
       "418      NaN   FINAL  2010/11    AC-TR    1070980.0    1070980.0  1070980.0  \n",
       "7053     NaN   FINAL  2010/11    AC-TR    1070905.0    1070904.0  1070904.5  \n",
       "12075    NaN   FINAL  2010/11    AC-TR    1070922.0    1070923.0  1070922.5  \n",
       "19241    NaN   FINAL  2010/11    AC-TR    1070968.0    1070968.0  1070968.0  \n",
       "26242    NaN   FINAL  2010/11    AC-TR    1070926.0    1070927.0  1070926.5  \n",
       "\n",
       "[5 rows x 35 columns]"
      ]
     },
     "execution_count": 158,
     "metadata": {},
     "output_type": "execute_result"
    }
   ],
   "source": [
    "out.head()"
   ]
  },
  {
   "cell_type": "code",
   "execution_count": 181,
   "id": "abroad-modem",
   "metadata": {
    "ExecuteTime": {
     "end_time": "2021-02-17T13:24:03.023366Z",
     "start_time": "2021-02-17T13:24:02.994405Z"
    }
   },
   "outputs": [
    {
     "data": {
      "text/html": [
       "<div>\n",
       "<style scoped>\n",
       "    .dataframe tbody tr th:only-of-type {\n",
       "        vertical-align: middle;\n",
       "    }\n",
       "\n",
       "    .dataframe tbody tr th {\n",
       "        vertical-align: top;\n",
       "    }\n",
       "\n",
       "    .dataframe thead th {\n",
       "        text-align: right;\n",
       "    }\n",
       "</style>\n",
       "<table border=\"1\" class=\"dataframe\">\n",
       "  <thead>\n",
       "    <tr style=\"text-align: right;\">\n",
       "      <th></th>\n",
       "      <th>RECORD</th>\n",
       "      <th>BBLE</th>\n",
       "      <th>B</th>\n",
       "      <th>BLOCK</th>\n",
       "      <th>LOT</th>\n",
       "      <th>EASEMENT</th>\n",
       "      <th>OWNER</th>\n",
       "      <th>BLDGCL</th>\n",
       "      <th>TAXCLASS</th>\n",
       "      <th>LTFRONT</th>\n",
       "      <th>...</th>\n",
       "      <th>AVTOT2</th>\n",
       "      <th>EXLAND2</th>\n",
       "      <th>EXTOT2</th>\n",
       "      <th>EXCD2</th>\n",
       "      <th>PERIOD</th>\n",
       "      <th>YEAR</th>\n",
       "      <th>VALTYPE</th>\n",
       "      <th>score1 rank</th>\n",
       "      <th>score2 rank</th>\n",
       "      <th>final</th>\n",
       "    </tr>\n",
       "  </thead>\n",
       "  <tbody>\n",
       "    <tr>\n",
       "      <th>917941</th>\n",
       "      <td>917942</td>\n",
       "      <td>4142600001</td>\n",
       "      <td>4</td>\n",
       "      <td>14260</td>\n",
       "      <td>1</td>\n",
       "      <td>NaN</td>\n",
       "      <td>LOGAN PROPERTY, INC.</td>\n",
       "      <td>T1</td>\n",
       "      <td>4</td>\n",
       "      <td>4910</td>\n",
       "      <td>...</td>\n",
       "      <td>4.501180e+09</td>\n",
       "      <td>1.644454e+09</td>\n",
       "      <td>4.501180e+09</td>\n",
       "      <td>NaN</td>\n",
       "      <td>FINAL</td>\n",
       "      <td>2010/11</td>\n",
       "      <td>AC-TR</td>\n",
       "      <td>1070994.0</td>\n",
       "      <td>1070994.0</td>\n",
       "      <td>1070994.0</td>\n",
       "    </tr>\n",
       "    <tr>\n",
       "      <th>565391</th>\n",
       "      <td>565392</td>\n",
       "      <td>3085900700</td>\n",
       "      <td>3</td>\n",
       "      <td>8590</td>\n",
       "      <td>700</td>\n",
       "      <td>NaN</td>\n",
       "      <td>U S GOVERNMENT OWNRD</td>\n",
       "      <td>V9</td>\n",
       "      <td>4</td>\n",
       "      <td>117</td>\n",
       "      <td>...</td>\n",
       "      <td>8.484847e+08</td>\n",
       "      <td>8.484847e+08</td>\n",
       "      <td>8.484847e+08</td>\n",
       "      <td>NaN</td>\n",
       "      <td>FINAL</td>\n",
       "      <td>2010/11</td>\n",
       "      <td>AC-TR</td>\n",
       "      <td>1070993.0</td>\n",
       "      <td>1070993.0</td>\n",
       "      <td>1070993.0</td>\n",
       "    </tr>\n",
       "    <tr>\n",
       "      <th>85885</th>\n",
       "      <td>85886</td>\n",
       "      <td>1012540010</td>\n",
       "      <td>1</td>\n",
       "      <td>1254</td>\n",
       "      <td>10</td>\n",
       "      <td>NaN</td>\n",
       "      <td>PARKS AND RECREATION</td>\n",
       "      <td>Q1</td>\n",
       "      <td>4</td>\n",
       "      <td>4000</td>\n",
       "      <td>...</td>\n",
       "      <td>2.826018e+07</td>\n",
       "      <td>2.813400e+07</td>\n",
       "      <td>2.826018e+07</td>\n",
       "      <td>NaN</td>\n",
       "      <td>FINAL</td>\n",
       "      <td>2010/11</td>\n",
       "      <td>AC-TR</td>\n",
       "      <td>1070992.0</td>\n",
       "      <td>1070992.0</td>\n",
       "      <td>1070992.0</td>\n",
       "    </tr>\n",
       "    <tr>\n",
       "      <th>684703</th>\n",
       "      <td>684704</td>\n",
       "      <td>4036590105</td>\n",
       "      <td>4</td>\n",
       "      <td>3659</td>\n",
       "      <td>105</td>\n",
       "      <td>NaN</td>\n",
       "      <td>W RUFERT</td>\n",
       "      <td>V0</td>\n",
       "      <td>1B</td>\n",
       "      <td>2</td>\n",
       "      <td>...</td>\n",
       "      <td>NaN</td>\n",
       "      <td>NaN</td>\n",
       "      <td>NaN</td>\n",
       "      <td>NaN</td>\n",
       "      <td>FINAL</td>\n",
       "      <td>2010/11</td>\n",
       "      <td>AC-TR</td>\n",
       "      <td>1070991.0</td>\n",
       "      <td>1070991.0</td>\n",
       "      <td>1070991.0</td>\n",
       "    </tr>\n",
       "    <tr>\n",
       "      <th>67128</th>\n",
       "      <td>67129</td>\n",
       "      <td>1011110001</td>\n",
       "      <td>1</td>\n",
       "      <td>1111</td>\n",
       "      <td>1</td>\n",
       "      <td>NaN</td>\n",
       "      <td>CULTURAL AFFAIRS</td>\n",
       "      <td>Q1</td>\n",
       "      <td>4</td>\n",
       "      <td>840</td>\n",
       "      <td>...</td>\n",
       "      <td>2.465055e+09</td>\n",
       "      <td>2.371005e+09</td>\n",
       "      <td>2.465055e+09</td>\n",
       "      <td>NaN</td>\n",
       "      <td>FINAL</td>\n",
       "      <td>2010/11</td>\n",
       "      <td>AC-TR</td>\n",
       "      <td>1070990.0</td>\n",
       "      <td>1070990.0</td>\n",
       "      <td>1070990.0</td>\n",
       "    </tr>\n",
       "  </tbody>\n",
       "</table>\n",
       "<p>5 rows × 35 columns</p>\n",
       "</div>"
      ],
      "text/plain": [
       "        RECORD        BBLE  B  BLOCK  LOT EASEMENT                 OWNER  \\\n",
       "917941  917942  4142600001  4  14260    1      NaN  LOGAN PROPERTY, INC.   \n",
       "565391  565392  3085900700  3   8590  700      NaN  U S GOVERNMENT OWNRD   \n",
       "85885    85886  1012540010  1   1254   10      NaN  PARKS AND RECREATION   \n",
       "684703  684704  4036590105  4   3659  105      NaN              W RUFERT   \n",
       "67128    67129  1011110001  1   1111    1      NaN      CULTURAL AFFAIRS   \n",
       "\n",
       "       BLDGCL TAXCLASS  LTFRONT  ...        AVTOT2       EXLAND2  \\\n",
       "917941     T1        4     4910  ...  4.501180e+09  1.644454e+09   \n",
       "565391     V9        4      117  ...  8.484847e+08  8.484847e+08   \n",
       "85885      Q1        4     4000  ...  2.826018e+07  2.813400e+07   \n",
       "684703     V0       1B        2  ...           NaN           NaN   \n",
       "67128      Q1        4      840  ...  2.465055e+09  2.371005e+09   \n",
       "\n",
       "              EXTOT2  EXCD2  PERIOD     YEAR  VALTYPE  score1 rank  \\\n",
       "917941  4.501180e+09    NaN   FINAL  2010/11    AC-TR    1070994.0   \n",
       "565391  8.484847e+08    NaN   FINAL  2010/11    AC-TR    1070993.0   \n",
       "85885   2.826018e+07    NaN   FINAL  2010/11    AC-TR    1070992.0   \n",
       "684703           NaN    NaN   FINAL  2010/11    AC-TR    1070991.0   \n",
       "67128   2.465055e+09    NaN   FINAL  2010/11    AC-TR    1070990.0   \n",
       "\n",
       "        score2 rank      final  \n",
       "917941    1070994.0  1070994.0  \n",
       "565391    1070993.0  1070993.0  \n",
       "85885     1070992.0  1070992.0  \n",
       "684703    1070991.0  1070991.0  \n",
       "67128     1070990.0  1070990.0  \n",
       "\n",
       "[5 rows x 35 columns]"
      ]
     },
     "execution_count": 181,
     "metadata": {},
     "output_type": "execute_result"
    }
   ],
   "source": [
    "out=out.sort_values(['final'], ascending = False)\n",
    "out.head()"
   ]
  },
  {
   "cell_type": "code",
   "execution_count": 182,
   "id": "finnish-schema",
   "metadata": {
    "ExecuteTime": {
     "end_time": "2021-02-17T13:24:09.757190Z",
     "start_time": "2021-02-17T13:24:09.728381Z"
    }
   },
   "outputs": [],
   "source": [
    "out.to_csv('New Top 100 Fraud Score-Zining Han.csv',index=False)"
   ]
  },
  {
   "cell_type": "markdown",
   "id": "systematic-transport",
   "metadata": {},
   "source": [
    "# Assignment 4"
   ]
  },
  {
   "cell_type": "code",
   "execution_count": 190,
   "id": "announced-ribbon",
   "metadata": {
    "ExecuteTime": {
     "end_time": "2021-02-17T13:34:46.216064Z",
     "start_time": "2021-02-17T13:34:46.158449Z"
    }
   },
   "outputs": [],
   "source": [
    "old=pd.read_csv('Original Top 100 Fraud Score-Zining Han.csv')\n",
    "new=pd.read_csv('New Top 100 Fraud Score-Zining Han.csv')"
   ]
  },
  {
   "cell_type": "code",
   "execution_count": 191,
   "id": "assured-investor",
   "metadata": {
    "ExecuteTime": {
     "end_time": "2021-02-17T13:34:50.195383Z",
     "start_time": "2021-02-17T13:34:50.189029Z"
    }
   },
   "outputs": [],
   "source": [
    "top_old=old['RECORD']\n",
    "top_new=new['RECORD']"
   ]
  },
  {
   "cell_type": "code",
   "execution_count": 193,
   "id": "lasting-vulnerability",
   "metadata": {
    "ExecuteTime": {
     "end_time": "2021-02-17T13:35:09.444075Z",
     "start_time": "2021-02-17T13:35:09.433210Z"
    }
   },
   "outputs": [
    {
     "data": {
      "text/plain": [
       "95"
      ]
     },
     "execution_count": 193,
     "metadata": {},
     "output_type": "execute_result"
    }
   ],
   "source": [
    "res=list(set(list(top_old)).intersection(set(list(top_new))))\n",
    "len(res)"
   ]
  },
  {
   "cell_type": "code",
   "execution_count": null,
   "id": "molecular-affiliate",
   "metadata": {},
   "outputs": [],
   "source": [
    "# p=2 p=2 PC=6\n",
    "# p=3 p=4 PC=7"
   ]
  }
 ],
 "metadata": {
  "kernelspec": {
   "display_name": "Python 3",
   "language": "python",
   "name": "python3"
  },
  "varInspector": {
   "cols": {
    "lenName": 16,
    "lenType": 16,
    "lenVar": 40
   },
   "kernels_config": {
    "python": {
     "delete_cmd_postfix": "",
     "delete_cmd_prefix": "del ",
     "library": "var_list.py",
     "varRefreshCmd": "print(var_dic_list())"
    },
    "r": {
     "delete_cmd_postfix": ") ",
     "delete_cmd_prefix": "rm(",
     "library": "var_list.r",
     "varRefreshCmd": "cat(var_dic_list()) "
    }
   },
   "types_to_exclude": [
    "module",
    "function",
    "builtin_function_or_method",
    "instance",
    "_Feature"
   ],
   "window_display": false
  }
 },
 "nbformat": 4,
 "nbformat_minor": 5
}
